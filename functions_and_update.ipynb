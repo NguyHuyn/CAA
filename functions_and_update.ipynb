{
  "cells": [
    {
      "cell_type": "markdown",
      "metadata": {
        "id": "view-in-github",
        "colab_type": "text"
      },
      "source": [
        "<a href=\"https://colab.research.google.com/github/Stergios-Konstantinidis/CAA/blob/main/functions_and_update.ipynb\" target=\"_parent\"><img src=\"https://colab.research.google.com/assets/colab-badge.svg\" alt=\"Open In Colab\"/></a>"
      ]
    },
    {
      "cell_type": "markdown",
      "source": [
        "# Imports and verbose"
      ],
      "metadata": {
        "id": "jpC1eOyqHgxF"
      }
    },
    {
      "cell_type": "code",
      "execution_count": 1,
      "metadata": {
        "id": "6EOBsFTzp3EY",
        "colab": {
          "base_uri": "https://localhost:8080/"
        },
        "outputId": "32020054-0a0f-4685-827e-0c99bae86517"
      },
      "outputs": [
        {
          "output_type": "stream",
          "name": "stdout",
          "text": [
            "Authenticated\n"
          ]
        }
      ],
      "source": [
        "import requests\n",
        "import json\n",
        "import time\n",
        "import pandas\n",
        "import random\n",
        "from datetime import datetime, timedelta, time\n",
        "\n",
        "from google.colab import auth\n",
        "auth.authenticate_user()\n",
        "print('Authenticated')\n",
        "\n",
        "\n",
        "from google.cloud import bigquery\n",
        "# Construct a BigQuery client object.\n",
        "project_id = 'sbb-project-2023'\n",
        "client = bigquery.Client(project = project_id)\n",
        "\n",
        "\n",
        "\n",
        "verboser = True\n",
        "\n",
        "def verbose(text:str, verboser = verboser):\n",
        "  if verboser == True:\n",
        "    print(text)\n",
        "  else:\n",
        "    pass\n"
      ]
    },
    {
      "cell_type": "markdown",
      "source": [
        "# SQL functions"
      ],
      "metadata": {
        "id": "hurzjeMJHbos"
      }
    },
    {
      "cell_type": "code",
      "execution_count": 2,
      "metadata": {
        "id": "xXoUJPIWbbCK",
        "colab": {
          "base_uri": "https://localhost:8080/"
        },
        "outputId": "ddb6cc7c-9738-452c-df0b-d023c3362732"
      },
      "outputs": [
        {
          "output_type": "stream",
          "name": "stdout",
          "text": [
            "New rows have been added.\n"
          ]
        }
      ],
      "source": [
        "def send_beverage_served(user_id, beverage_id):\n",
        "  table_id = 'projetalcohol.beverage_served'\n",
        "  to_load = \"\"\"{\"campus_card_idcampus_card\":\"***\",\"beverage_idbeverage\":\"****\",\"beverage_serveddate\":\"*****\",\"beverage_servedtime\":\"******\"}\"\"\"\n",
        "  to_load = to_load.replace(\"******\", str((datetime.now() + timedelta(hours=2)).strftime('%H:%M')+\":00.00\"))\n",
        "  to_load = to_load.replace(\"*****\", (datetime.now() + timedelta(hours=2)).strftime('%Y-%m-%d'))\n",
        "  to_load = to_load.replace(\"****\", str(beverage_id))\n",
        "  rows_to_insert = [json.loads(to_load.replace(\"***\", user_id))]\n",
        "\n",
        "  errors = client.insert_rows_json(table_id, rows_to_insert)  # Make an API request.\n",
        "  if errors == []:\n",
        "    verbose(\"New rows have been added.\")\n",
        "  else:\n",
        "    verbose(\"Encountered errors while inserting rows in beverage served: {}\".format(errors))\n",
        "\n",
        "#send_beverage_served(\"8843d61d0\", 2938)"
      ]
    },
    {
      "cell_type": "code",
      "execution_count": 3,
      "metadata": {
        "id": "QTGNKN_yL60D"
      },
      "outputs": [],
      "source": [
        "def send_alcohol_level(user_id, alcohol_level):\n",
        "  table_id = 'projetalcohol.alcohol_level'\n",
        "  to_load = \"\"\"{\"campus_card_idcampus_card\":\"***\",\"alcohol_leveldate\":\"*****\",\"alcohol_leveltime\":\"******\",\"alcohol_levelethanol\":\"****\"}\"\"\"\n",
        "  to_load = to_load.replace(\"******\", str((datetime.now() + timedelta(hours=2)).strftime('%H:%M:%S')))\n",
        "  to_load = to_load.replace(\"*****\", (datetime.now() + timedelta(hours=2)).strftime('%Y-%m-%d'))\n",
        "  to_load = to_load.replace(\"****\", str(alcohol_level))\n",
        "  rows_to_insert = [json.loads(to_load.replace(\"***\", user_id))]\n",
        "\n",
        "  errors = client.insert_rows_json(table_id, rows_to_insert)  # Make an API request.\n",
        "  if errors == []:\n",
        "    verbose(\"New rows have been added.\")\n",
        "  else:\n",
        "    verbose(\"Encountered errors while inserting rows in alcohol level: {}\".format(errors))\n",
        "\n",
        "#send_alcohol_level(\"testuser\", str(7000))"
      ]
    },
    {
      "cell_type": "code",
      "source": [
        "def add_time_departure(campus_card_uid, departure_time = \"18:00\"):\n",
        "  table_id = 'projetalcohol.time_departure'\n",
        "  to_load = \"\"\"{\"campus_card_idcampus_card\":\"***\",\"time_departuredate\":\"*****\",\"time_departuretime\":\"******\"}\"\"\"\n",
        "  to_load = to_load.replace(\"******\", str(datetime.strptime(departure_time,'%H:%M').strftime('%H:%M:%S')))\n",
        "  to_load = to_load.replace(\"*****\", (datetime.now()).strftime('%Y-%m-%d'))\n",
        "  rows_to_insert = [json.loads(to_load.replace(\"***\", campus_card_uid))]\n",
        "\n",
        "  errors = client.insert_rows_json(table_id, rows_to_insert)  # Make an API request.\n",
        "  if errors == []:\n",
        "    verbose(\"New rows have been added.\")\n",
        "  else:\n",
        "    verbose(\"Encountered errors while inserting rows in alcohol level: {}\".format(errors))\n",
        "\n",
        "#add_time_departure(\"8843d61d0\")"
      ],
      "metadata": {
        "id": "t0BQi4c96nPh"
      },
      "execution_count": 4,
      "outputs": []
    },
    {
      "cell_type": "code",
      "source": [
        "def create_user(idcampus_card, campus_cardlastname = \"newlastname\", campus_cardfirstname = \"newfirstname\", campus_cardbirth_date = datetime.strptime(\"1998.10.03\", \"%Y.%m.%d\"), campus_cardabsorption = 4, campus_cardsex = True, campus_cardweight = 70,campus_carddiffusioncoef = 0,alcohol_authorized = 0):\n",
        "  table_id = 'projetalcohol.campus_card'\n",
        "  to_load = \"\"\"{\"idcampus_card\":\"***\",\"campus_cardlastname\":\"****\",\"campus_cardfirstname\":\"*****\",\"campus_cardbirth_date\":\"******\",\"campus_cardabsorption\":\"*******\",\"campus_cardsex\":\"********\",\"campus_cardweight\":\"*********\",\"campus_carddiffusioncoef\":\"**********\",\"alcohol_limit\":\"***********\"}\"\"\"\n",
        "  to_load = to_load.replace(\"***********\", str(alcohol_authorized))\n",
        "  to_load = to_load.replace(\"**********\", str(campus_carddiffusioncoef))\n",
        "  to_load = to_load.replace(\"*********\", str(campus_cardweight))\n",
        "  to_load = to_load.replace(\"********\", str(campus_cardsex))\n",
        "  to_load = to_load.replace(\"*******\", str(campus_cardabsorption))\n",
        "  to_load = to_load.replace(\"******\", str(campus_cardbirth_date.strftime('%Y-%m-%d')))\n",
        "  to_load = to_load.replace(\"*****\", campus_cardfirstname)\n",
        "  to_load = to_load.replace(\"****\", campus_cardlastname)\n",
        "  rows_to_insert = [json.loads(to_load.replace(\"***\", idcampus_card))]\n",
        "\n",
        "  errors = client.insert_rows_json(table_id, rows_to_insert)  # Make an API request.\n",
        "  add_time_departure(idcampus_card)\n",
        "  if errors == []:\n",
        "    verbose(\"New rows have been added.\")\n",
        "  else:\n",
        "    verbose(\"Encountered errors while inserting rows in alcohol level: {}\".format(errors))\n",
        "\n",
        "#create_user(\"UID\", \"Test\", \"user\", datetime.strptime(\"1998.10.03\", \"%Y.%m.%d\"),4,True,83,1)\n"
      ],
      "metadata": {
        "id": "sB6NSriBAukw"
      },
      "execution_count": 5,
      "outputs": []
    },
    {
      "cell_type": "code",
      "source": [
        "def user_exists(campuscard_id):\n",
        "  q1 = \"\"\"select campus_card_idcampus_card as campuscard\n",
        "from sbb-project-2023.projetalcohol.alcohol_level\n",
        "where campus_card_idcampus_card = \"{}\"\n",
        "limit 1\"\"\".format(campuscard_id)\n",
        "  query_job = client.query(q1)\n",
        "  if len(query_job.to_dataframe()['campuscard'].tolist()) == 0:\n",
        "    return False\n",
        "  else:\n",
        "    return True\n",
        "\n",
        "#user_exists(\"8843d61d0\")"
      ],
      "metadata": {
        "id": "IYNS98aR-zqm",
        "colab": {
          "base_uri": "https://localhost:8080/"
        },
        "outputId": "b751ec21-e776-4dce-abc4-e68f8c36e5c1"
      },
      "execution_count": 6,
      "outputs": [
        {
          "output_type": "execute_result",
          "data": {
            "text/plain": [
              "True"
            ]
          },
          "metadata": {},
          "execution_count": 6
        }
      ]
    },
    {
      "cell_type": "code",
      "execution_count": 7,
      "metadata": {
        "id": "tF6jcZLUSuvu"
      },
      "outputs": [],
      "source": [
        "def create_drink(beverage_name, alcohol_level_percentage, beverage_quantity_cL = 300, beverage_id = random.randrange(2000000)):\n",
        "  table_id = 'projetalcohol.beverage'\n",
        "  to_load = \"\"\"{\"idbeverage\":\"***\",\"beveragename\":\"****\",\"beveragealcolevel\":\"*****\",\"beveragebasequantity\":\"******\"}\"\"\"\n",
        "  to_load = to_load.replace(\"******\", str(beverage_quantity_cL))\n",
        "  to_load = to_load.replace(\"*****\", str(alcohol_level_percentage * beverage_quantity_cL))\n",
        "  to_load = to_load.replace(\"****\", beverage_name)\n",
        "  rows_to_insert = [json.loads(to_load.replace(\"***\", str(beverage_id)))]\n",
        "\n",
        "  errors = client.insert_rows_json(table_id, rows_to_insert)  # Make an API request.\n",
        "  if errors == []:\n",
        "    verbose(\"New rows have been added.\")\n",
        "  else:\n",
        "    verbose(\"Encountered errors while inserting rows in beverage: {}\".format(errors))\n",
        "\n",
        "#create_drink(\"Pepsi\", 0, 20)"
      ]
    },
    {
      "cell_type": "code",
      "source": [
        "def get_user_data(uidOrName):\n",
        "   q1 = \"\"\"select *\n",
        "from sbb-project-2023.projetalcohol.campus_card\n",
        "where idcampus_card = \"{}\"\n",
        "\"\"\".format(uidOrName)\n",
        "   query_job = client.query(q1)\n",
        "\n",
        "   if len(query_job.to_dataframe()) == 0:\n",
        "        q1 = \"\"\"select *\n",
        "from sbb-project-2023.projetalcohol.campus_card\n",
        "where campus_cardfirstname = \"{}\"\n",
        "\"\"\".format(uidOrName)\n",
        "        query_job = client.query(q1)\n",
        "   else:\n",
        "      pass\n",
        "   \n",
        "   return query_job.to_dataframe()\n",
        "#get_user_data(\"82e445122\")"
      ],
      "metadata": {
        "id": "09sALBJqnZJc"
      },
      "execution_count": 8,
      "outputs": []
    },
    {
      "cell_type": "code",
      "source": [
        "def get_blood_qtt(userUID):\n",
        "  q1 = \"\"\"select campus_cardweight as weight\n",
        "from sbb-project-2023.projetalcohol.campus_card\n",
        "where idcampus_card = \"{}\"\n",
        "\"\"\".format(userUID)\n",
        "  query_job = client.query(q1)\n",
        "  user_weight = query_job.to_dataframe()['weight'].to_list()[-1]\n",
        "  return user_weight * 0.075\n",
        "\n",
        "#get_blood_qtt('82e445122')"
      ],
      "metadata": {
        "colab": {
          "base_uri": "https://localhost:8080/"
        },
        "id": "HXcY3oIrTG9P",
        "outputId": "a7471353-6037-4a3c-c553-046414a2e9df"
      },
      "execution_count": 11,
      "outputs": [
        {
          "output_type": "execute_result",
          "data": {
            "text/plain": [
              "6.45"
            ]
          },
          "metadata": {},
          "execution_count": 11
        }
      ]
    },
    {
      "cell_type": "code",
      "source": [
        "def get_alcohol_per_L_served(userUID, depreciation_mg_per_L = 0.15): #gets as input the User ID and returns the mg per L of ethanol\n",
        "  querry = \"\"\"select beverage_served.beverage_serveddate as date, beverage_served.beverage_servedtime as time, (beverage.beveragealcolevel * beverage.beveragebasequantity) as miligrams\n",
        "  from projetalcohol.beverage_served \n",
        "  join projetalcohol.beverage on beverage_served.beverage_idbeverage = beverage.idbeverage\n",
        "  where beverage_served.campus_card_idcampus_card = '{}'\n",
        "  order by beverage_served.beverage_serveddate asc, beverage_served.beverage_servedtime asc\"\"\".format(userUID)\n",
        "  query_job = client.query(querry)\n",
        "\n",
        "  blood_qtt = get_blood_qtt('82e445122')\n",
        "  dates = query_job.to_dataframe()['date'].to_list()\n",
        "  times = query_job.to_dataframe()['time'].to_list()\n",
        "  grams = query_job.to_dataframe()['miligrams'].to_list()\n",
        "\n",
        "  mgramsPerL = list(map(lambda x: ((x*0.01)/blood_qtt), grams))\n",
        "  \n",
        "  values_to_keep_timeage = []\n",
        "  values_to_keep_mgrams_PerL = []\n",
        "  alcohol_level = 0\n",
        "  for i in range(len(dates)):\n",
        "    datetimeobject = datetime.strptime(str(dates[i]) + \"__\" + str(times[i]), \"%Y-%m-%d__%H:%M:%S\") \n",
        "    nowdatetime = datetime.now() + timedelta(hours = 2)\n",
        "\n",
        "    if datetimeobject + timedelta(hours = 24) > nowdatetime: # We will only perform those measurements on records over the last 24 hours\n",
        "      values_to_keep_timeage.append(nowdatetime - datetimeobject)\n",
        "      values_to_keep_mgrams_PerL.append(mgramsPerL[i])\n",
        "    \n",
        "  if len(values_to_keep_timeage) == 1: # we can remove this part but it is usefull for intuition and to see how it works. The model bellow reuses this equation.\n",
        "    alcohol_depreciation = max((values_to_keep_timeage[0].total_seconds()/3600) - 0.5,0) * depreciation_mg_per_L\n",
        "    alcohol_level += max(values_to_keep_mgrams_PerL[0] - alcohol_depreciation, 0)\n",
        "\n",
        "    \n",
        "  if len(values_to_keep_timeage) > 1:\n",
        "    alcohol_at_t = values_to_keep_mgrams_PerL[0]\n",
        "    time_at_t = values_to_keep_timeage[0]\n",
        "\n",
        "    for i in range(len(values_to_keep_timeage) - 1):\n",
        "\n",
        "      time_at_t_plus_1 =  values_to_keep_timeage[i+1]\n",
        "      alcohol_depreciation = (time_at_t.total_seconds()/3600 - time_at_t_plus_1.total_seconds()/3600 - 0.5) * depreciation_mg_per_L\n",
        "\n",
        "      alcohol_at_t = max(alcohol_at_t - alcohol_depreciation,0) + values_to_keep_mgrams_PerL[i+1]\n",
        "      time_at_t = time_at_t_plus_1\n",
        "\n",
        "    \n",
        "    alcohol_level = alcohol_at_t - max(time_at_t.total_seconds()/3600 - 0.5, 0) * depreciation_mg_per_L\n",
        "\n",
        "  return alcohol_level\n",
        "\n",
        "\n",
        "\n",
        "#get_alcohol_per_L_served(\"8843d61d0\")"
      ],
      "metadata": {
        "colab": {
          "base_uri": "https://localhost:8080/"
        },
        "id": "EK4xTBLVTnuv",
        "outputId": "0b77e391-ff98-4e95-e355-26690299832e"
      },
      "execution_count": 23,
      "outputs": [
        {
          "output_type": "execute_result",
          "data": {
            "text/plain": [
              "0.5016860486366279"
            ]
          },
          "metadata": {},
          "execution_count": 23
        }
      ]
    },
    {
      "cell_type": "code",
      "source": [
        "def get_departure_time(userUID):\n",
        "  querry = \"\"\"select time_departuretime as time from projetalcohol.time_departure where campus_card_idcampus_card  = \"{}\" order by time_departuredate asc, time_departuretime asc\"\"\".format(userUID)\n",
        "  query_job = client.query(querry)\n",
        "  departure = query_job.to_dataframe()['time'].to_list()[-1]\n",
        "    \n",
        "  return departure.strftime(\"%H:%M\")\n",
        "\n",
        "\n",
        "#get_departure_time(\"82e445122\")"
      ],
      "metadata": {
        "colab": {
          "base_uri": "https://localhost:8080/",
          "height": 35
        },
        "id": "Ne_Qf_z_w1TY",
        "outputId": "67ea014c-b625-402d-971e-d1949aa24a04"
      },
      "execution_count": 13,
      "outputs": [
        {
          "output_type": "execute_result",
          "data": {
            "text/plain": [
              "'18:00'"
            ],
            "application/vnd.google.colaboratory.intrinsic+json": {
              "type": "string"
            }
          },
          "metadata": {},
          "execution_count": 13
        }
      ]
    },
    {
      "cell_type": "code",
      "source": [
        "#dans recommander function, pas besoin\n",
        "def get_allowed_drinks(alcohol_level, max_level = 0.25): \n",
        "  #todo\n",
        "  querry = \"\"\"select * from projetalcohol.beverage where beveragealcolevel * beveragebasequantity <= {} order by beveragealcolevel desc\"\"\".format(max_level - alcohol_level)\n",
        "  query_job = client.query(querry)\n",
        "\n",
        "  \n",
        "  return query_job.to_dataframe()\n",
        "\n",
        "#get_allowed_drinks(0)"
      ],
      "metadata": {
        "id": "BshBJ5CNVDpi"
      },
      "execution_count": 15,
      "outputs": []
    },
    {
      "cell_type": "markdown",
      "source": [
        "# API communication with the M5Stacks\n",
        "\n",
        "### 1- Defining the links\n",
        "### 2- Defining utils functions\n"
      ],
      "metadata": {
        "id": "-8RyvBckGWsG"
      }
    },
    {
      "cell_type": "code",
      "execution_count": 9,
      "metadata": {
        "id": "5xTHUW8rroFI"
      },
      "outputs": [],
      "source": [
        "link = \"https://api.m5stack.com/v1/D535B855/\"\n",
        "alcohol_level_api = 'https://api.m5stack.com/v1/CAAA456F/call?func=label_1_callback()'\n",
        "selected_drink = link + \"call?func=label_selecteddrink_callback()\"\n",
        "campus_card_uid = link + 'call?func=label_uid_callback()'\n",
        "\n",
        "\n",
        "drink_recommendation_1 = link + \"call?func=input_drink1_callback\"\n",
        "drink_recommendation_2 = link + \"call?func=input_drink2_callback\"\n",
        "drink_recommendation_3 = link + \"call?func=input_drink3_callback\"\n",
        "reset_selection = link + \"call?func=input_selected_drink_reseter_callback\"\n",
        "alcohol_level_setter = link + \"call?func=input_Alcohollevel_callback\"\n"
      ]
    },
    {
      "cell_type": "code",
      "execution_count": 10,
      "metadata": {
        "id": "U_rL2fczp6rM"
      },
      "outputs": [],
      "source": [
        "def get_data_from_url(url_for_API):\n",
        "  response = requests.get(url_for_API)\n",
        "  json_response = json.loads(response.text)\n",
        "  try:\n",
        "    text_to_int = int(json_response['data'])\n",
        "    return str(text_to_int)\n",
        "  except:\n",
        "      pass\n",
        "  return json_response['data'][1:-1]\n",
        "\n",
        "def send_data_to_url(url_for_API, valueToSend):\n",
        "  value_to_send_formated = str(url_for_API) + '(%27' + str(valueToSend).replace(' ','%20') + '%27)'\n",
        "  requests.get(value_to_send_formated)"
      ]
    },
    {
      "cell_type": "markdown",
      "source": [
        "#Other Utils"
      ],
      "metadata": {
        "id": "7htaZGMnHB19"
      }
    },
    {
      "cell_type": "code",
      "source": [
        "def journalized_limit(userUID, alcohol_limit:float): #Will NEVER return more than 0.75 (as then we go in coma teritory)\n",
        "  \n",
        "  departure_time = get_departure_time(userUID)\n",
        "  \n",
        "  now_time = datetime.now() + timedelta(hours = 2)\n",
        "  try:\n",
        "    leave_time = datetime.now().replace(hour = int(departure_time[0:2]), minute = int(departure_time[3:5]))\n",
        "  except:\n",
        "    leave_time = datetime.now().replace(hour = int(departure_time[0:1]), minute = int(departure_time[2:4]))\n",
        "  possible_depreciation = (leave_time - now_time).total_seconds()/3600 * 0.15\n",
        "  allowed_consumption = max(min(alcohol_limit + possible_depreciation, 0.75), alcohol_limit)\n",
        "  return allowed_consumption\n",
        "\n",
        "\n",
        "journalize_limit(\"82e445122\", 0.25)"
      ],
      "metadata": {
        "colab": {
          "base_uri": "https://localhost:8080/"
        },
        "id": "l-13fxeUxJd5",
        "outputId": "6230d7ea-9ad4-4255-8b12-972417c8f51f"
      },
      "execution_count": 25,
      "outputs": [
        {
          "output_type": "execute_result",
          "data": {
            "text/plain": [
              "0.75"
            ]
          },
          "metadata": {},
          "execution_count": 25
        }
      ]
    },
    {
      "cell_type": "code",
      "execution_count": 16,
      "metadata": {
        "id": "I3ZS59jpDL8q",
        "colab": {
          "base_uri": "https://localhost:8080/"
        },
        "outputId": "cc03f42b-66d3-4c8e-a1d1-54b864cda770"
      },
      "outputs": [
        {
          "output_type": "execute_result",
          "data": {
            "text/plain": [
              "('Vodka',\n",
              " 'Limoncello',\n",
              " 'Beer',\n",
              " ['Vodka', 'Limoncello', 'Beer', 'Ice Tea', 'Coke'],\n",
              " [2938, 93680, 13251, 1888655, 13319])"
            ]
          },
          "metadata": {},
          "execution_count": 16
        }
      ],
      "source": [
        "def recommend_drink(user, alcohol_level, max_level = 10000):\n",
        "\n",
        "  drinks_dataframe = get_allowed_drinks(alcohol_level, max_level)\n",
        "\n",
        "  #Faire ici la selection des meilleures boissons parmis celles qui figurent dans drinks_dataframe\n",
        "\n",
        "\n",
        "\n",
        "  \n",
        "  top_3_finalists = drinks_dataframe['beveragename'].tolist()[0:3]\n",
        "  indexes = drinks_dataframe['idbeverage'].tolist()[0:3]\n",
        "  #verbose(top_3_finalists)\n",
        "  return top_3_finalists[0], top_3_finalists[1], top_3_finalists[2], drinks_dataframe['beveragename'].tolist(), drinks_dataframe['idbeverage'].tolist()\n",
        "\n",
        "recommend_drink(12,12)"
      ]
    },
    {
      "cell_type": "code",
      "execution_count": 17,
      "metadata": {
        "id": "9tW46AZYF1mH"
      },
      "outputs": [],
      "source": [
        "def convert_ppm3_to_alcohol_in_blood(user, alcohol_level):\n",
        "  #todo (still in testing)\n",
        "  return alcohol_level"
      ]
    },
    {
      "cell_type": "code",
      "source": [
        "def get_alcohol_level(user_id): #returns the max value of alcohol measured over a period of 9 seconds\n",
        "  alcohol_level_ppm3 = int(get_data_from_url(alcohol_level_api))\n",
        "  alcohol_level = convert_ppm3_to_alcohol_in_blood(user_id, alcohol_level_ppm3)\n",
        "  return alcohol_level"
      ],
      "metadata": {
        "id": "DgCPGPNRZ_MP"
      },
      "execution_count": 18,
      "outputs": []
    },
    {
      "cell_type": "markdown",
      "source": [
        "# Update functions\n",
        "This one checks if the campus card changes and makes the recommendations (while also updating the bigquery tables)"
      ],
      "metadata": {
        "id": "RGWqfI6MHGbK"
      }
    },
    {
      "cell_type": "code",
      "execution_count": 19,
      "metadata": {
        "id": "xq12TrErrxF4"
      },
      "outputs": [],
      "source": [
        "def on_user_change(): #Function that checks if the campus card placed on the reader has changed => new user\n",
        "  initial_user = get_data_from_url(campus_card_uid)\n",
        "  while True: #repeat this loop until stopped\n",
        "    send_data_to_url(reset_selection, \"None\") #ensures no drink is selected (as to avoid the selection being pre-made)\n",
        "    user_id = get_data_from_url(campus_card_uid) #retrieve the uid of the capuscard located on the reader\n",
        "    if user_id != initial_user: #checks if our current user has changed\n",
        "      if user_id != \"None\" and user_id != \"'None'\" and user_id != None and user_id != \"\" and user_id != \" \" and user_id != \"imeou\": #ensures the user is not none or an error\n",
        "        initial_user = user_id #set the initial user to the current user\n",
        "\n",
        "        if not user_exists(user_id): #checks if the user is in our database\n",
        "          create_user(user_id) #if no user exists creates the user\n",
        "\n",
        "\n",
        "        #This finds the current alcohol level for the user, it takes the max from our two approximations\n",
        "        alcohol_level = max(get_alcohol_level(user_id), get_alcohol_per_L_served(user_id))\n",
        "        send_data_to_url(alcohol_level_setter, alcohol_level) #sends the alcohol level to the second m5Stacks\n",
        "        \n",
        "        #sends this to our DB\n",
        "        verbose(\"Sending alcohol_level user: {}, level: {}\".format(user_id, alcohol_level))\n",
        "        send_alcohol_level(user_id, alcohol_level)\n",
        "\n",
        "        #we retrive here the users preference on alcohol limit (mg/L)\n",
        "        user_data = get_user_data(user_id)\n",
        "        user_limit = user_data['alcohol_limit'].to_list()[-1]\n",
        "        if user_limit == 0: #we have those \"If's\" as the user makes a choice by checkbox\n",
        "          alcohol_limit = 0.0\n",
        "        elif user_limit == 1:\n",
        "          alcohol_limit = 0.25\n",
        "        elif user_limit == 2:\n",
        "          alcohol_limit = 0.75\n",
        "\n",
        "        \n",
        "        current_limit = journalized_limit(user_id, alcohol_limit) #this function automaticaly gets the departure time of the user from SQL\n",
        "\n",
        "        send_data_to_url(reset_selection, \"Non\") #message to the m5, indicating that the recommendations are coming\n",
        "        \n",
        "        \n",
        "        beverage_1, beverage_2, beverage_3,top3, indexes  = recommend_drink(user_id, alcohol_level, current_limit) #we get our top 3 recommendations\n",
        "        send_data_to_url(drink_recommendation_1, beverage_1)\n",
        "        send_data_to_url(drink_recommendation_2, beverage_2)\n",
        "        send_data_to_url(drink_recommendation_3, beverage_3)\n",
        "\n",
        "\n",
        "        selection = get_data_from_url(selected_drink) #checking if the user has chosen his drink\n",
        "        while selection == \"None\" or selection == \"on\" or selection == \"FFLIN\":\n",
        "          time.sleep(1)\n",
        "          selection = get_data_from_url(selected_drink)\n",
        "\n",
        "        chosen_drink_index = top3.index(selection) #identifying the chosen drink\n",
        "        drink_id = indexes[chosen_drink_index]\n",
        "        send_data_to_url(reset_selection, \"No\")\n",
        "        verbose(\"sending_beverage_served user: {}, beverage: {}\".format(user_id, selection))\n",
        "        send_beverage_served(user_id, drink_id) #storing it to our database\n"
      ]
    },
    {
      "cell_type": "code",
      "execution_count": 20,
      "metadata": {
        "id": "BQObMEF6EuCY",
        "colab": {
          "base_uri": "https://localhost:8080/",
          "height": 318
        },
        "outputId": "7970ae63-57f9-4ce9-921a-c2f755ea5569"
      },
      "outputs": [
        {
          "output_type": "error",
          "ename": "KeyboardInterrupt",
          "evalue": "ignored",
          "traceback": [
            "\u001b[0;31m---------------------------------------------------------------------------\u001b[0m",
            "\u001b[0;31mKeyboardInterrupt\u001b[0m                         Traceback (most recent call last)",
            "\u001b[0;32m<ipython-input-20-5cd59f5c0574>\u001b[0m in \u001b[0;36m<cell line: 1>\u001b[0;34m()\u001b[0m\n\u001b[0;32m----> 1\u001b[0;31m \u001b[0mon_user_change\u001b[0m\u001b[0;34m(\u001b[0m\u001b[0;34m)\u001b[0m\u001b[0;34m\u001b[0m\u001b[0;34m\u001b[0m\u001b[0m\n\u001b[0m",
            "\u001b[0;32m<ipython-input-19-d7a6f38d5d57>\u001b[0m in \u001b[0;36mon_user_change\u001b[0;34m()\u001b[0m\n\u001b[1;32m      2\u001b[0m   \u001b[0minitial_user\u001b[0m \u001b[0;34m=\u001b[0m \u001b[0mget_data_from_url\u001b[0m\u001b[0;34m(\u001b[0m\u001b[0mcampus_card_uid\u001b[0m\u001b[0;34m)\u001b[0m\u001b[0;34m\u001b[0m\u001b[0;34m\u001b[0m\u001b[0m\n\u001b[1;32m      3\u001b[0m   \u001b[0;32mwhile\u001b[0m \u001b[0;32mTrue\u001b[0m\u001b[0;34m:\u001b[0m \u001b[0;31m#repeat this loop until stopped\u001b[0m\u001b[0;34m\u001b[0m\u001b[0;34m\u001b[0m\u001b[0m\n\u001b[0;32m----> 4\u001b[0;31m     \u001b[0msend_data_to_url\u001b[0m\u001b[0;34m(\u001b[0m\u001b[0mreset_selection\u001b[0m\u001b[0;34m,\u001b[0m \u001b[0;34m\"None\"\u001b[0m\u001b[0;34m)\u001b[0m \u001b[0;31m#ensures no drink is selected (as to avoid the selection being pre-made)\u001b[0m\u001b[0;34m\u001b[0m\u001b[0;34m\u001b[0m\u001b[0m\n\u001b[0m\u001b[1;32m      5\u001b[0m     \u001b[0muser_id\u001b[0m \u001b[0;34m=\u001b[0m \u001b[0mget_data_from_url\u001b[0m\u001b[0;34m(\u001b[0m\u001b[0mcampus_card_uid\u001b[0m\u001b[0;34m)\u001b[0m \u001b[0;31m#retrieve the uid of the capuscard located on the reader\u001b[0m\u001b[0;34m\u001b[0m\u001b[0;34m\u001b[0m\u001b[0m\n\u001b[1;32m      6\u001b[0m     \u001b[0;32mif\u001b[0m \u001b[0muser_id\u001b[0m \u001b[0;34m!=\u001b[0m \u001b[0minitial_user\u001b[0m\u001b[0;34m:\u001b[0m \u001b[0;31m#checks if our current user has changed\u001b[0m\u001b[0;34m\u001b[0m\u001b[0;34m\u001b[0m\u001b[0m\n",
            "\u001b[0;32m<ipython-input-10-9a67511351f2>\u001b[0m in \u001b[0;36msend_data_to_url\u001b[0;34m(url_for_API, valueToSend)\u001b[0m\n\u001b[1;32m     11\u001b[0m \u001b[0;32mdef\u001b[0m \u001b[0msend_data_to_url\u001b[0m\u001b[0;34m(\u001b[0m\u001b[0murl_for_API\u001b[0m\u001b[0;34m,\u001b[0m \u001b[0mvalueToSend\u001b[0m\u001b[0;34m)\u001b[0m\u001b[0;34m:\u001b[0m\u001b[0;34m\u001b[0m\u001b[0;34m\u001b[0m\u001b[0m\n\u001b[1;32m     12\u001b[0m   \u001b[0mvalue_to_send_formated\u001b[0m \u001b[0;34m=\u001b[0m \u001b[0mstr\u001b[0m\u001b[0;34m(\u001b[0m\u001b[0murl_for_API\u001b[0m\u001b[0;34m)\u001b[0m \u001b[0;34m+\u001b[0m \u001b[0;34m'(%27'\u001b[0m \u001b[0;34m+\u001b[0m \u001b[0mstr\u001b[0m\u001b[0;34m(\u001b[0m\u001b[0mvalueToSend\u001b[0m\u001b[0;34m)\u001b[0m\u001b[0;34m.\u001b[0m\u001b[0mreplace\u001b[0m\u001b[0;34m(\u001b[0m\u001b[0;34m' '\u001b[0m\u001b[0;34m,\u001b[0m\u001b[0;34m'%20'\u001b[0m\u001b[0;34m)\u001b[0m \u001b[0;34m+\u001b[0m \u001b[0;34m'%27)'\u001b[0m\u001b[0;34m\u001b[0m\u001b[0;34m\u001b[0m\u001b[0m\n\u001b[0;32m---> 13\u001b[0;31m   \u001b[0mrequests\u001b[0m\u001b[0;34m.\u001b[0m\u001b[0mget\u001b[0m\u001b[0;34m(\u001b[0m\u001b[0mvalue_to_send_formated\u001b[0m\u001b[0;34m)\u001b[0m\u001b[0;34m\u001b[0m\u001b[0;34m\u001b[0m\u001b[0m\n\u001b[0m",
            "\u001b[0;32m/usr/local/lib/python3.10/dist-packages/requests/api.py\u001b[0m in \u001b[0;36mget\u001b[0;34m(url, params, **kwargs)\u001b[0m\n\u001b[1;32m     73\u001b[0m     \"\"\"\n\u001b[1;32m     74\u001b[0m \u001b[0;34m\u001b[0m\u001b[0m\n\u001b[0;32m---> 75\u001b[0;31m     \u001b[0;32mreturn\u001b[0m \u001b[0mrequest\u001b[0m\u001b[0;34m(\u001b[0m\u001b[0;34m'get'\u001b[0m\u001b[0;34m,\u001b[0m \u001b[0murl\u001b[0m\u001b[0;34m,\u001b[0m \u001b[0mparams\u001b[0m\u001b[0;34m=\u001b[0m\u001b[0mparams\u001b[0m\u001b[0;34m,\u001b[0m \u001b[0;34m**\u001b[0m\u001b[0mkwargs\u001b[0m\u001b[0;34m)\u001b[0m\u001b[0;34m\u001b[0m\u001b[0;34m\u001b[0m\u001b[0m\n\u001b[0m\u001b[1;32m     76\u001b[0m \u001b[0;34m\u001b[0m\u001b[0m\n\u001b[1;32m     77\u001b[0m \u001b[0;34m\u001b[0m\u001b[0m\n",
            "\u001b[0;32m/usr/local/lib/python3.10/dist-packages/requests/api.py\u001b[0m in \u001b[0;36mrequest\u001b[0;34m(method, url, **kwargs)\u001b[0m\n\u001b[1;32m     59\u001b[0m     \u001b[0;31m# cases, and look like a memory leak in others.\u001b[0m\u001b[0;34m\u001b[0m\u001b[0;34m\u001b[0m\u001b[0m\n\u001b[1;32m     60\u001b[0m     \u001b[0;32mwith\u001b[0m \u001b[0msessions\u001b[0m\u001b[0;34m.\u001b[0m\u001b[0mSession\u001b[0m\u001b[0;34m(\u001b[0m\u001b[0;34m)\u001b[0m \u001b[0;32mas\u001b[0m \u001b[0msession\u001b[0m\u001b[0;34m:\u001b[0m\u001b[0;34m\u001b[0m\u001b[0;34m\u001b[0m\u001b[0m\n\u001b[0;32m---> 61\u001b[0;31m         \u001b[0;32mreturn\u001b[0m \u001b[0msession\u001b[0m\u001b[0;34m.\u001b[0m\u001b[0mrequest\u001b[0m\u001b[0;34m(\u001b[0m\u001b[0mmethod\u001b[0m\u001b[0;34m=\u001b[0m\u001b[0mmethod\u001b[0m\u001b[0;34m,\u001b[0m \u001b[0murl\u001b[0m\u001b[0;34m=\u001b[0m\u001b[0murl\u001b[0m\u001b[0;34m,\u001b[0m \u001b[0;34m**\u001b[0m\u001b[0mkwargs\u001b[0m\u001b[0;34m)\u001b[0m\u001b[0;34m\u001b[0m\u001b[0;34m\u001b[0m\u001b[0m\n\u001b[0m\u001b[1;32m     62\u001b[0m \u001b[0;34m\u001b[0m\u001b[0m\n\u001b[1;32m     63\u001b[0m \u001b[0;34m\u001b[0m\u001b[0m\n",
            "\u001b[0;32m/usr/local/lib/python3.10/dist-packages/requests/sessions.py\u001b[0m in \u001b[0;36mrequest\u001b[0;34m(self, method, url, params, data, headers, cookies, files, auth, timeout, allow_redirects, proxies, hooks, stream, verify, cert, json)\u001b[0m\n\u001b[1;32m    527\u001b[0m         }\n\u001b[1;32m    528\u001b[0m         \u001b[0msend_kwargs\u001b[0m\u001b[0;34m.\u001b[0m\u001b[0mupdate\u001b[0m\u001b[0;34m(\u001b[0m\u001b[0msettings\u001b[0m\u001b[0;34m)\u001b[0m\u001b[0;34m\u001b[0m\u001b[0;34m\u001b[0m\u001b[0m\n\u001b[0;32m--> 529\u001b[0;31m         \u001b[0mresp\u001b[0m \u001b[0;34m=\u001b[0m \u001b[0mself\u001b[0m\u001b[0;34m.\u001b[0m\u001b[0msend\u001b[0m\u001b[0;34m(\u001b[0m\u001b[0mprep\u001b[0m\u001b[0;34m,\u001b[0m \u001b[0;34m**\u001b[0m\u001b[0msend_kwargs\u001b[0m\u001b[0;34m)\u001b[0m\u001b[0;34m\u001b[0m\u001b[0;34m\u001b[0m\u001b[0m\n\u001b[0m\u001b[1;32m    530\u001b[0m \u001b[0;34m\u001b[0m\u001b[0m\n\u001b[1;32m    531\u001b[0m         \u001b[0;32mreturn\u001b[0m \u001b[0mresp\u001b[0m\u001b[0;34m\u001b[0m\u001b[0;34m\u001b[0m\u001b[0m\n",
            "\u001b[0;32m/usr/local/lib/python3.10/dist-packages/requests/sessions.py\u001b[0m in \u001b[0;36msend\u001b[0;34m(self, request, **kwargs)\u001b[0m\n\u001b[1;32m    643\u001b[0m \u001b[0;34m\u001b[0m\u001b[0m\n\u001b[1;32m    644\u001b[0m         \u001b[0;31m# Send the request\u001b[0m\u001b[0;34m\u001b[0m\u001b[0;34m\u001b[0m\u001b[0m\n\u001b[0;32m--> 645\u001b[0;31m         \u001b[0mr\u001b[0m \u001b[0;34m=\u001b[0m \u001b[0madapter\u001b[0m\u001b[0;34m.\u001b[0m\u001b[0msend\u001b[0m\u001b[0;34m(\u001b[0m\u001b[0mrequest\u001b[0m\u001b[0;34m,\u001b[0m \u001b[0;34m**\u001b[0m\u001b[0mkwargs\u001b[0m\u001b[0;34m)\u001b[0m\u001b[0;34m\u001b[0m\u001b[0;34m\u001b[0m\u001b[0m\n\u001b[0m\u001b[1;32m    646\u001b[0m \u001b[0;34m\u001b[0m\u001b[0m\n\u001b[1;32m    647\u001b[0m         \u001b[0;31m# Total elapsed time of the request (approximately)\u001b[0m\u001b[0;34m\u001b[0m\u001b[0;34m\u001b[0m\u001b[0m\n",
            "\u001b[0;32m/usr/local/lib/python3.10/dist-packages/requests/adapters.py\u001b[0m in \u001b[0;36msend\u001b[0;34m(self, request, stream, timeout, verify, cert, proxies)\u001b[0m\n\u001b[1;32m    438\u001b[0m         \u001b[0;32mtry\u001b[0m\u001b[0;34m:\u001b[0m\u001b[0;34m\u001b[0m\u001b[0;34m\u001b[0m\u001b[0m\n\u001b[1;32m    439\u001b[0m             \u001b[0;32mif\u001b[0m \u001b[0;32mnot\u001b[0m \u001b[0mchunked\u001b[0m\u001b[0;34m:\u001b[0m\u001b[0;34m\u001b[0m\u001b[0;34m\u001b[0m\u001b[0m\n\u001b[0;32m--> 440\u001b[0;31m                 resp = conn.urlopen(\n\u001b[0m\u001b[1;32m    441\u001b[0m                     \u001b[0mmethod\u001b[0m\u001b[0;34m=\u001b[0m\u001b[0mrequest\u001b[0m\u001b[0;34m.\u001b[0m\u001b[0mmethod\u001b[0m\u001b[0;34m,\u001b[0m\u001b[0;34m\u001b[0m\u001b[0;34m\u001b[0m\u001b[0m\n\u001b[1;32m    442\u001b[0m                     \u001b[0murl\u001b[0m\u001b[0;34m=\u001b[0m\u001b[0murl\u001b[0m\u001b[0;34m,\u001b[0m\u001b[0;34m\u001b[0m\u001b[0;34m\u001b[0m\u001b[0m\n",
            "\u001b[0;32m/usr/local/lib/python3.10/dist-packages/urllib3/connectionpool.py\u001b[0m in \u001b[0;36murlopen\u001b[0;34m(self, method, url, body, headers, retries, redirect, assert_same_host, timeout, pool_timeout, release_conn, chunked, body_pos, **response_kw)\u001b[0m\n\u001b[1;32m    701\u001b[0m \u001b[0;34m\u001b[0m\u001b[0m\n\u001b[1;32m    702\u001b[0m             \u001b[0;31m# Make the request on the httplib connection object.\u001b[0m\u001b[0;34m\u001b[0m\u001b[0;34m\u001b[0m\u001b[0m\n\u001b[0;32m--> 703\u001b[0;31m             httplib_response = self._make_request(\n\u001b[0m\u001b[1;32m    704\u001b[0m                 \u001b[0mconn\u001b[0m\u001b[0;34m,\u001b[0m\u001b[0;34m\u001b[0m\u001b[0;34m\u001b[0m\u001b[0m\n\u001b[1;32m    705\u001b[0m                 \u001b[0mmethod\u001b[0m\u001b[0;34m,\u001b[0m\u001b[0;34m\u001b[0m\u001b[0;34m\u001b[0m\u001b[0m\n",
            "\u001b[0;32m/usr/local/lib/python3.10/dist-packages/urllib3/connectionpool.py\u001b[0m in \u001b[0;36m_make_request\u001b[0;34m(self, conn, method, url, timeout, chunked, **httplib_request_kw)\u001b[0m\n\u001b[1;32m    384\u001b[0m         \u001b[0;31m# Trigger any extra validation we need to do.\u001b[0m\u001b[0;34m\u001b[0m\u001b[0;34m\u001b[0m\u001b[0m\n\u001b[1;32m    385\u001b[0m         \u001b[0;32mtry\u001b[0m\u001b[0;34m:\u001b[0m\u001b[0;34m\u001b[0m\u001b[0;34m\u001b[0m\u001b[0m\n\u001b[0;32m--> 386\u001b[0;31m             \u001b[0mself\u001b[0m\u001b[0;34m.\u001b[0m\u001b[0m_validate_conn\u001b[0m\u001b[0;34m(\u001b[0m\u001b[0mconn\u001b[0m\u001b[0;34m)\u001b[0m\u001b[0;34m\u001b[0m\u001b[0;34m\u001b[0m\u001b[0m\n\u001b[0m\u001b[1;32m    387\u001b[0m         \u001b[0;32mexcept\u001b[0m \u001b[0;34m(\u001b[0m\u001b[0mSocketTimeout\u001b[0m\u001b[0;34m,\u001b[0m \u001b[0mBaseSSLError\u001b[0m\u001b[0;34m)\u001b[0m \u001b[0;32mas\u001b[0m \u001b[0me\u001b[0m\u001b[0;34m:\u001b[0m\u001b[0;34m\u001b[0m\u001b[0;34m\u001b[0m\u001b[0m\n\u001b[1;32m    388\u001b[0m             \u001b[0;31m# Py2 raises this as a BaseSSLError, Py3 raises it as socket timeout.\u001b[0m\u001b[0;34m\u001b[0m\u001b[0;34m\u001b[0m\u001b[0m\n",
            "\u001b[0;32m/usr/local/lib/python3.10/dist-packages/urllib3/connectionpool.py\u001b[0m in \u001b[0;36m_validate_conn\u001b[0;34m(self, conn)\u001b[0m\n\u001b[1;32m   1040\u001b[0m         \u001b[0;31m# Force connect early to allow us to validate the connection.\u001b[0m\u001b[0;34m\u001b[0m\u001b[0;34m\u001b[0m\u001b[0m\n\u001b[1;32m   1041\u001b[0m         \u001b[0;32mif\u001b[0m \u001b[0;32mnot\u001b[0m \u001b[0mgetattr\u001b[0m\u001b[0;34m(\u001b[0m\u001b[0mconn\u001b[0m\u001b[0;34m,\u001b[0m \u001b[0;34m\"sock\"\u001b[0m\u001b[0;34m,\u001b[0m \u001b[0;32mNone\u001b[0m\u001b[0;34m)\u001b[0m\u001b[0;34m:\u001b[0m  \u001b[0;31m# AppEngine might not have  `.sock`\u001b[0m\u001b[0;34m\u001b[0m\u001b[0;34m\u001b[0m\u001b[0m\n\u001b[0;32m-> 1042\u001b[0;31m             \u001b[0mconn\u001b[0m\u001b[0;34m.\u001b[0m\u001b[0mconnect\u001b[0m\u001b[0;34m(\u001b[0m\u001b[0;34m)\u001b[0m\u001b[0;34m\u001b[0m\u001b[0;34m\u001b[0m\u001b[0m\n\u001b[0m\u001b[1;32m   1043\u001b[0m \u001b[0;34m\u001b[0m\u001b[0m\n\u001b[1;32m   1044\u001b[0m         \u001b[0;32mif\u001b[0m \u001b[0;32mnot\u001b[0m \u001b[0mconn\u001b[0m\u001b[0;34m.\u001b[0m\u001b[0mis_verified\u001b[0m\u001b[0;34m:\u001b[0m\u001b[0;34m\u001b[0m\u001b[0;34m\u001b[0m\u001b[0m\n",
            "\u001b[0;32m/usr/local/lib/python3.10/dist-packages/urllib3/connection.py\u001b[0m in \u001b[0;36mconnect\u001b[0;34m(self)\u001b[0m\n\u001b[1;32m    361\u001b[0m     \u001b[0;32mdef\u001b[0m \u001b[0mconnect\u001b[0m\u001b[0;34m(\u001b[0m\u001b[0mself\u001b[0m\u001b[0;34m)\u001b[0m\u001b[0;34m:\u001b[0m\u001b[0;34m\u001b[0m\u001b[0;34m\u001b[0m\u001b[0m\n\u001b[1;32m    362\u001b[0m         \u001b[0;31m# Add certificate verification\u001b[0m\u001b[0;34m\u001b[0m\u001b[0;34m\u001b[0m\u001b[0m\n\u001b[0;32m--> 363\u001b[0;31m         \u001b[0mself\u001b[0m\u001b[0;34m.\u001b[0m\u001b[0msock\u001b[0m \u001b[0;34m=\u001b[0m \u001b[0mconn\u001b[0m \u001b[0;34m=\u001b[0m \u001b[0mself\u001b[0m\u001b[0;34m.\u001b[0m\u001b[0m_new_conn\u001b[0m\u001b[0;34m(\u001b[0m\u001b[0;34m)\u001b[0m\u001b[0;34m\u001b[0m\u001b[0;34m\u001b[0m\u001b[0m\n\u001b[0m\u001b[1;32m    364\u001b[0m         \u001b[0mhostname\u001b[0m \u001b[0;34m=\u001b[0m \u001b[0mself\u001b[0m\u001b[0;34m.\u001b[0m\u001b[0mhost\u001b[0m\u001b[0;34m\u001b[0m\u001b[0;34m\u001b[0m\u001b[0m\n\u001b[1;32m    365\u001b[0m         \u001b[0mtls_in_tls\u001b[0m \u001b[0;34m=\u001b[0m \u001b[0;32mFalse\u001b[0m\u001b[0;34m\u001b[0m\u001b[0;34m\u001b[0m\u001b[0m\n",
            "\u001b[0;32m/usr/local/lib/python3.10/dist-packages/urllib3/connection.py\u001b[0m in \u001b[0;36m_new_conn\u001b[0;34m(self)\u001b[0m\n\u001b[1;32m    172\u001b[0m \u001b[0;34m\u001b[0m\u001b[0m\n\u001b[1;32m    173\u001b[0m         \u001b[0;32mtry\u001b[0m\u001b[0;34m:\u001b[0m\u001b[0;34m\u001b[0m\u001b[0;34m\u001b[0m\u001b[0m\n\u001b[0;32m--> 174\u001b[0;31m             conn = connection.create_connection(\n\u001b[0m\u001b[1;32m    175\u001b[0m                 \u001b[0;34m(\u001b[0m\u001b[0mself\u001b[0m\u001b[0;34m.\u001b[0m\u001b[0m_dns_host\u001b[0m\u001b[0;34m,\u001b[0m \u001b[0mself\u001b[0m\u001b[0;34m.\u001b[0m\u001b[0mport\u001b[0m\u001b[0;34m)\u001b[0m\u001b[0;34m,\u001b[0m \u001b[0mself\u001b[0m\u001b[0;34m.\u001b[0m\u001b[0mtimeout\u001b[0m\u001b[0;34m,\u001b[0m \u001b[0;34m**\u001b[0m\u001b[0mextra_kw\u001b[0m\u001b[0;34m\u001b[0m\u001b[0;34m\u001b[0m\u001b[0m\n\u001b[1;32m    176\u001b[0m             )\n",
            "\u001b[0;32m/usr/local/lib/python3.10/dist-packages/urllib3/util/connection.py\u001b[0m in \u001b[0;36mcreate_connection\u001b[0;34m(address, timeout, source_address, socket_options)\u001b[0m\n\u001b[1;32m     83\u001b[0m             \u001b[0;32mif\u001b[0m \u001b[0msource_address\u001b[0m\u001b[0;34m:\u001b[0m\u001b[0;34m\u001b[0m\u001b[0;34m\u001b[0m\u001b[0m\n\u001b[1;32m     84\u001b[0m                 \u001b[0msock\u001b[0m\u001b[0;34m.\u001b[0m\u001b[0mbind\u001b[0m\u001b[0;34m(\u001b[0m\u001b[0msource_address\u001b[0m\u001b[0;34m)\u001b[0m\u001b[0;34m\u001b[0m\u001b[0;34m\u001b[0m\u001b[0m\n\u001b[0;32m---> 85\u001b[0;31m             \u001b[0msock\u001b[0m\u001b[0;34m.\u001b[0m\u001b[0mconnect\u001b[0m\u001b[0;34m(\u001b[0m\u001b[0msa\u001b[0m\u001b[0;34m)\u001b[0m\u001b[0;34m\u001b[0m\u001b[0;34m\u001b[0m\u001b[0m\n\u001b[0m\u001b[1;32m     86\u001b[0m             \u001b[0;32mreturn\u001b[0m \u001b[0msock\u001b[0m\u001b[0;34m\u001b[0m\u001b[0;34m\u001b[0m\u001b[0m\n\u001b[1;32m     87\u001b[0m \u001b[0;34m\u001b[0m\u001b[0m\n",
            "\u001b[0;31mKeyboardInterrupt\u001b[0m: "
          ]
        }
      ],
      "source": [
        "on_user_change()"
      ]
    }
  ],
  "metadata": {
    "colab": {
      "provenance": [],
      "authorship_tag": "ABX9TyP/Ydrt8FTnHOXwh4grzPKC",
      "include_colab_link": true
    },
    "kernelspec": {
      "display_name": "Python 3",
      "name": "python3"
    },
    "language_info": {
      "name": "python"
    }
  },
  "nbformat": 4,
  "nbformat_minor": 0
}