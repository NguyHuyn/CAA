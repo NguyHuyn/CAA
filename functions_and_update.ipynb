{
  "cells": [
    {
      "cell_type": "markdown",
      "metadata": {
        "id": "view-in-github",
        "colab_type": "text"
      },
      "source": [
        "<a href=\"https://colab.research.google.com/github/Stergios-Konstantinidis/CAA/blob/main/functions_and_update.ipynb\" target=\"_parent\"><img src=\"https://colab.research.google.com/assets/colab-badge.svg\" alt=\"Open In Colab\"/></a>"
      ]
    },
    {
      "cell_type": "markdown",
      "metadata": {
        "id": "jpC1eOyqHgxF"
      },
      "source": [
        "# Imports and verbose"
      ]
    },
    {
      "cell_type": "code",
      "execution_count": 54,
      "metadata": {
        "colab": {
          "base_uri": "https://localhost:8080/"
        },
        "id": "6EOBsFTzp3EY",
        "outputId": "098f1c02-30e0-421e-fb07-e39e19e4721c"
      },
      "outputs": [
        {
          "output_type": "stream",
          "name": "stdout",
          "text": [
            "Authenticated\n"
          ]
        }
      ],
      "source": [
        "import requests\n",
        "import json\n",
        "import time as zzz\n",
        "import pandas\n",
        "import random\n",
        "from datetime import datetime, timedelta, time\n",
        "\n",
        "from google.colab import auth\n",
        "auth.authenticate_user()\n",
        "print('Authenticated')\n",
        "\n",
        "\n",
        "from google.cloud import bigquery\n",
        "# Construct a BigQuery client object.\n",
        "project_id = 'sbb-project-2023'\n",
        "client = bigquery.Client(project = project_id)\n",
        "\n",
        "\n",
        "\n",
        "verboser = True\n",
        "verbose_advanced = True\n",
        "\n",
        "def verbose(text:str, verboser = verboser):\n",
        "  if verboser == True:\n",
        "    print(text)\n",
        "  else:\n",
        "    pass\n",
        "\n",
        "def verbose_advanced(text:str, verboser = verbose_advanced):\n",
        "  if verbose == True:\n",
        "    print(text)\n",
        "  else:\n",
        "    pass\n"
      ]
    },
    {
      "cell_type": "markdown",
      "metadata": {
        "id": "hurzjeMJHbos"
      },
      "source": [
        "# SQL functions"
      ]
    },
    {
      "cell_type": "code",
      "execution_count": 55,
      "metadata": {
        "id": "xXoUJPIWbbCK"
      },
      "outputs": [],
      "source": [
        "def send_beverage_served(user_id, beverage_id):\n",
        "  table_id = 'projetalcohol.beverage_served'\n",
        "  to_load = \"\"\"{\"campus_card_idcampus_card\":\"***\",\"beverage_idbeverage\":\"****\",\"beverage_serveddate\":\"*****\",\"beverage_servedtime\":\"******\"}\"\"\"\n",
        "  to_load = to_load.replace(\"******\", str((datetime.now() + timedelta(hours=2)).strftime('%H:%M')+\":00.00\"))\n",
        "  to_load = to_load.replace(\"*****\", (datetime.now() + timedelta(hours=2)).strftime('%Y-%m-%d'))\n",
        "  to_load = to_load.replace(\"****\", str(beverage_id))\n",
        "  rows_to_insert = [json.loads(to_load.replace(\"***\", user_id))]\n",
        "\n",
        "  errors = client.insert_rows_json(table_id, rows_to_insert)  # Make an API request.\n",
        "  if errors == []:\n",
        "    verbose(\"New rows have been added.\")\n",
        "  else:\n",
        "    verbose(\"Encountered errors while inserting rows in beverage served: {}\".format(errors))\n",
        "\n",
        "#send_beverage_served(\"8843d61d0\", 2938)"
      ]
    },
    {
      "cell_type": "code",
      "execution_count": 56,
      "metadata": {
        "id": "QTGNKN_yL60D"
      },
      "outputs": [],
      "source": [
        "def send_alcohol_level(user_id, alcohol_level):\n",
        "  table_id = 'projetalcohol.alcohol_level'\n",
        "  to_load = \"\"\"{\"campus_card_idcampus_card\":\"***\",\"alcohol_leveldate\":\"*****\",\"alcohol_leveltime\":\"******\",\"alcohol_levelethanol\":\"****\"}\"\"\"\n",
        "  to_load = to_load.replace(\"******\", str((datetime.now() + timedelta(hours=2)).strftime('%H:%M:%S')))\n",
        "  to_load = to_load.replace(\"*****\", (datetime.now() + timedelta(hours=2)).strftime('%Y-%m-%d'))\n",
        "  to_load = to_load.replace(\"****\", str(alcohol_level))\n",
        "  rows_to_insert = [json.loads(to_load.replace(\"***\", user_id))]\n",
        "\n",
        "  errors = client.insert_rows_json(table_id, rows_to_insert)  # Make an API request.\n",
        "  if errors == []:\n",
        "    verbose(\"New rows have been added.\")\n",
        "  else:\n",
        "    verbose(\"Encountered errors while inserting rows in alcohol level: {}\".format(errors))\n",
        "\n",
        "#send_alcohol_level(\"testuser\", str(7000))"
      ]
    },
    {
      "cell_type": "code",
      "execution_count": 57,
      "metadata": {
        "id": "t0BQi4c96nPh"
      },
      "outputs": [],
      "source": [
        "def add_time_departure(campus_card_uid, departure_time = \"18:00\"):\n",
        "  table_id = 'projetalcohol.time_departure'\n",
        "  to_load = \"\"\"{\"campus_card_idcampus_card\":\"***\",\"time_departuredate\":\"*****\",\"time_departuretime\":\"******\"}\"\"\"\n",
        "  to_load = to_load.replace(\"******\", str(datetime.strptime(departure_time,'%H:%M').strftime('%H:%M:%S')))\n",
        "  to_load = to_load.replace(\"*****\", (datetime.now()).strftime('%Y-%m-%d'))\n",
        "  rows_to_insert = [json.loads(to_load.replace(\"***\", campus_card_uid))]\n",
        "\n",
        "  errors = client.insert_rows_json(table_id, rows_to_insert)  # Make an API request.\n",
        "  if errors == []:\n",
        "    verbose(\"New rows have been added.\")\n",
        "  else:\n",
        "    verbose(\"Encountered errors while inserting rows in alcohol level: {}\".format(errors))\n",
        "\n",
        "#add_time_departure(\"8843d61d0\")"
      ]
    },
    {
      "cell_type": "code",
      "execution_count": 58,
      "metadata": {
        "id": "sB6NSriBAukw"
      },
      "outputs": [],
      "source": [
        "def create_user(idcampus_card, campus_cardlastname = \"newlastname\", campus_cardfirstname = \"newfirstname\", campus_cardbirth_date = datetime.strptime(\"1998.10.03\", \"%Y.%m.%d\"), campus_cardabsorption = 4, campus_cardsex = True, campus_cardweight = 70,campus_carddiffusioncoef = 0,alcohol_authorized = 0):\n",
        "  table_id = 'projetalcohol.campus_card'\n",
        "  to_load = \"\"\"{\"idcampus_card\":\"***\",\"campus_cardlastname\":\"****\",\"campus_cardfirstname\":\"*****\",\"campus_cardbirth_date\":\"******\",\"campus_cardabsorption\":\"*******\",\"campus_cardsex\":\"********\",\"campus_cardweight\":\"*********\",\"campus_carddiffusioncoef\":\"**********\",\"alcohol_limit\":\"***********\"}\"\"\"\n",
        "  to_load = to_load.replace(\"***********\", str(alcohol_authorized))\n",
        "  to_load = to_load.replace(\"**********\", str(campus_carddiffusioncoef))\n",
        "  to_load = to_load.replace(\"*********\", str(campus_cardweight))\n",
        "  to_load = to_load.replace(\"********\", str(campus_cardsex))\n",
        "  to_load = to_load.replace(\"*******\", str(campus_cardabsorption))\n",
        "  to_load = to_load.replace(\"******\", str(campus_cardbirth_date.strftime('%Y-%m-%d')))\n",
        "  to_load = to_load.replace(\"*****\", campus_cardfirstname)\n",
        "  to_load = to_load.replace(\"****\", campus_cardlastname)\n",
        "  rows_to_insert = [json.loads(to_load.replace(\"***\", idcampus_card))]\n",
        "\n",
        "  errors = client.insert_rows_json(table_id, rows_to_insert)  # Make an API request.\n",
        "  add_time_departure(idcampus_card)\n",
        "  if errors == []:\n",
        "    verbose(\"New rows have been added.\")\n",
        "  else:\n",
        "    verbose(\"Encountered errors while inserting rows in alcohol level: {}\".format(errors))\n",
        "\n",
        "#create_user(\"UID\", \"Test\", \"user\", datetime.strptime(\"1998.10.03\", \"%Y.%m.%d\"),4,True,83,1)\n"
      ]
    },
    {
      "cell_type": "code",
      "execution_count": 59,
      "metadata": {
        "id": "IYNS98aR-zqm"
      },
      "outputs": [],
      "source": [
        "def user_exists(campuscard_id):\n",
        "  q1 = \"\"\"select idcampus_card as campuscard\n",
        "from sbb-project-2023.projetalcohol.campus_card\n",
        "where idcampus_card = \"{}\"\n",
        "limit 1\"\"\".format(campuscard_id)\n",
        "  query_job = client.query(q1)\n",
        "  if len(query_job.to_dataframe()['campuscard'].tolist()) == 0:\n",
        "    return False\n",
        "  else:\n",
        "    return True\n",
        "\n",
        "#user_exists(\"8843d61d0\")"
      ]
    },
    {
      "cell_type": "code",
      "execution_count": 60,
      "metadata": {
        "id": "tF6jcZLUSuvu"
      },
      "outputs": [],
      "source": [
        "def create_drink(beverage_name, alcohol_level_percentage, beverage_quantity_cL = 300, beverage_id = random.randrange(2000000)):\n",
        "  table_id = 'projetalcohol.beverage'\n",
        "  to_load = \"\"\"{\"idbeverage\":\"***\",\"beveragename\":\"****\",\"beveragealcolevel\":\"*****\",\"beveragebasequantity\":\"******\"}\"\"\"\n",
        "  to_load = to_load.replace(\"******\", str(beverage_quantity_cL))\n",
        "  to_load = to_load.replace(\"*****\", str(alcohol_level_percentage * beverage_quantity_cL))\n",
        "  to_load = to_load.replace(\"****\", beverage_name)\n",
        "  rows_to_insert = [json.loads(to_load.replace(\"***\", str(beverage_id)))]\n",
        "\n",
        "  errors = client.insert_rows_json(table_id, rows_to_insert)  # Make an API request.\n",
        "  if errors == []:\n",
        "    verbose(\"New rows have been added.\")\n",
        "  else:\n",
        "    verbose(\"Encountered errors while inserting rows in beverage: {}\".format(errors))\n",
        "\n",
        "#create_drink(\"Water\", 0, 20)"
      ]
    },
    {
      "cell_type": "code",
      "execution_count": 61,
      "metadata": {
        "id": "09sALBJqnZJc"
      },
      "outputs": [],
      "source": [
        "def get_user_data(uidOrName):\n",
        "   q1 = \"\"\"select *\n",
        "from sbb-project-2023.projetalcohol.campus_card\n",
        "where idcampus_card = \"{}\"\n",
        "\"\"\".format(uidOrName)\n",
        "   query_job = client.query(q1)\n",
        "\n",
        "   if len(query_job.to_dataframe()) == 0:\n",
        "        q1 = \"\"\"select *\n",
        "from sbb-project-2023.projetalcohol.campus_card\n",
        "where campus_cardfirstname = \"{}\"\n",
        "\"\"\".format(uidOrName)\n",
        "        query_job = client.query(q1)\n",
        "   else:\n",
        "      pass\n",
        "   \n",
        "   return query_job.to_dataframe()\n",
        "#get_user_data(\"82e445122\")"
      ]
    },
    {
      "cell_type": "code",
      "execution_count": 62,
      "metadata": {
        "id": "HXcY3oIrTG9P"
      },
      "outputs": [],
      "source": [
        "def get_blood_qtt(userUID):\n",
        "  q1 = \"\"\"select campus_cardweight as weight\n",
        "from sbb-project-2023.projetalcohol.campus_card\n",
        "where idcampus_card = \"{}\"\n",
        "\"\"\".format(userUID)\n",
        "  query_job = client.query(q1)\n",
        "  user_weight = query_job.to_dataframe()['weight'].to_list()[-1]\n",
        "  return user_weight * 0.075\n",
        "\n",
        "#get_blood_qtt('82e445122')"
      ]
    },
    {
      "cell_type": "code",
      "execution_count": 63,
      "metadata": {
        "id": "EK4xTBLVTnuv",
        "colab": {
          "base_uri": "https://localhost:8080/"
        },
        "outputId": "50e7e0fd-6564-471b-fb3a-1e8e6be616f8"
      },
      "outputs": [
        {
          "output_type": "execute_result",
          "data": {
            "text/plain": [
              "0.43410852713178294"
            ]
          },
          "metadata": {},
          "execution_count": 63
        }
      ],
      "source": [
        "def get_alcohol_per_L_served(userUID, depreciation_mg_per_L = 0.15): #gets as input the User ID and returns the mg per L of ethanol\n",
        "  querry = \"\"\"select beverage_served.beverage_serveddate as date, beverage_served.beverage_servedtime as time, (beverage.beveragealcolevel * beverage.beveragebasequantity) as miligrams\n",
        "  from projetalcohol.beverage_served \n",
        "  join projetalcohol.beverage on beverage_served.beverage_idbeverage = beverage.idbeverage\n",
        "  where beverage_served.campus_card_idcampus_card = '{}'\n",
        "  order by beverage_served.beverage_serveddate asc, beverage_served.beverage_servedtime asc\"\"\".format(userUID)\n",
        "  query_job = client.query(querry)\n",
        "\n",
        "  blood_qtt = get_blood_qtt('82e445122')\n",
        "  dates = query_job.to_dataframe()['date'].to_list()\n",
        "  times = query_job.to_dataframe()['time'].to_list()\n",
        "  grams = query_job.to_dataframe()['miligrams'].to_list()\n",
        "\n",
        "  mgramsPerL = list(map(lambda x: ((x*0.01)/blood_qtt), grams))\n",
        "  \n",
        "  values_to_keep_timeage = []\n",
        "  values_to_keep_mgrams_PerL = []\n",
        "  alcohol_level = 0\n",
        "  for i in range(len(dates)):\n",
        "    datetimeobject = datetime.strptime(str(dates[i]) + \"__\" + str(times[i]), \"%Y-%m-%d__%H:%M:%S\") \n",
        "    nowdatetime = datetime.now() + timedelta(hours = 2)\n",
        "\n",
        "    if datetimeobject + timedelta(hours = 24) > nowdatetime: # We will only perform those measurements on records over the last 24 hours\n",
        "      values_to_keep_timeage.append(nowdatetime - datetimeobject)\n",
        "      values_to_keep_mgrams_PerL.append(mgramsPerL[i])\n",
        "    \n",
        "  if len(values_to_keep_timeage) == 1: # we can remove this part but it is usefull for intuition and to see how it works. The model bellow reuses this equation.\n",
        "    alcohol_depreciation = max((values_to_keep_timeage[0].total_seconds()/3600) - 0.5,0) * depreciation_mg_per_L\n",
        "    alcohol_level += max(values_to_keep_mgrams_PerL[0] - alcohol_depreciation, 0)\n",
        "\n",
        "    \n",
        "  if len(values_to_keep_timeage) > 1:\n",
        "    alcohol_at_t = values_to_keep_mgrams_PerL[0]\n",
        "    time_at_t = values_to_keep_timeage[0]\n",
        "\n",
        "    for i in range(len(values_to_keep_timeage) - 1):\n",
        "\n",
        "      time_at_t_plus_1 =  values_to_keep_timeage[i+1]\n",
        "      alcohol_depreciation = max((time_at_t.total_seconds()/3600 - time_at_t_plus_1.total_seconds()/3600 - 0.5) * depreciation_mg_per_L,0)\n",
        "\n",
        "      alcohol_at_t = max(alcohol_at_t - alcohol_depreciation,0) + values_to_keep_mgrams_PerL[i+1]\n",
        "      time_at_t = time_at_t_plus_1\n",
        "\n",
        "    \n",
        "    alcohol_level = max(alcohol_at_t - (max(time_at_t.total_seconds()/3600 - 0.5, 0) * depreciation_mg_per_L),0)\n",
        "\n",
        "  return alcohol_level\n",
        "\n",
        "\n",
        "\n",
        "get_alcohol_per_L_served(\"82e445122\")"
      ]
    },
    {
      "cell_type": "code",
      "execution_count": 64,
      "metadata": {
        "id": "Ne_Qf_z_w1TY"
      },
      "outputs": [],
      "source": [
        "def get_departure_time(userUID):\n",
        "  querry = \"\"\"select time_departuretime as time from projetalcohol.time_departure where campus_card_idcampus_card  = \"{}\" order by time_departuredate asc, time_departuretime asc\"\"\".format(userUID)\n",
        "  query_job = client.query(querry)\n",
        "  departure = query_job.to_dataframe()['time'].to_list()[-1]\n",
        "    \n",
        "  return departure.strftime(\"%H:%M\")\n",
        "\n",
        "\n",
        "#get_departure_time(\"82e445122\")"
      ]
    },
    {
      "cell_type": "code",
      "execution_count": 65,
      "metadata": {
        "id": "BshBJ5CNVDpi",
        "colab": {
          "base_uri": "https://localhost:8080/",
          "height": 175
        },
        "outputId": "5d641652-4e10-4616-a378-8b28707ea956"
      },
      "outputs": [
        {
          "output_type": "execute_result",
          "data": {
            "text/plain": [
              "   idbeverage beveragename  beveragealcolevel  beveragebasequantity\n",
              "0       13251         Beer                  5                    20\n",
              "1     1888655      Ice Tea                  0                    20\n",
              "2       13319         Coke                  0                    20\n",
              "3     1088253        Water                  0                    20"
            ],
            "text/html": [
              "\n",
              "  <div id=\"df-0bc17f1e-140e-4ef7-a8e0-d0ec8929aa25\">\n",
              "    <div class=\"colab-df-container\">\n",
              "      <div>\n",
              "<style scoped>\n",
              "    .dataframe tbody tr th:only-of-type {\n",
              "        vertical-align: middle;\n",
              "    }\n",
              "\n",
              "    .dataframe tbody tr th {\n",
              "        vertical-align: top;\n",
              "    }\n",
              "\n",
              "    .dataframe thead th {\n",
              "        text-align: right;\n",
              "    }\n",
              "</style>\n",
              "<table border=\"1\" class=\"dataframe\">\n",
              "  <thead>\n",
              "    <tr style=\"text-align: right;\">\n",
              "      <th></th>\n",
              "      <th>idbeverage</th>\n",
              "      <th>beveragename</th>\n",
              "      <th>beveragealcolevel</th>\n",
              "      <th>beveragebasequantity</th>\n",
              "    </tr>\n",
              "  </thead>\n",
              "  <tbody>\n",
              "    <tr>\n",
              "      <th>0</th>\n",
              "      <td>13251</td>\n",
              "      <td>Beer</td>\n",
              "      <td>5</td>\n",
              "      <td>20</td>\n",
              "    </tr>\n",
              "    <tr>\n",
              "      <th>1</th>\n",
              "      <td>1888655</td>\n",
              "      <td>Ice Tea</td>\n",
              "      <td>0</td>\n",
              "      <td>20</td>\n",
              "    </tr>\n",
              "    <tr>\n",
              "      <th>2</th>\n",
              "      <td>13319</td>\n",
              "      <td>Coke</td>\n",
              "      <td>0</td>\n",
              "      <td>20</td>\n",
              "    </tr>\n",
              "    <tr>\n",
              "      <th>3</th>\n",
              "      <td>1088253</td>\n",
              "      <td>Water</td>\n",
              "      <td>0</td>\n",
              "      <td>20</td>\n",
              "    </tr>\n",
              "  </tbody>\n",
              "</table>\n",
              "</div>\n",
              "      <button class=\"colab-df-convert\" onclick=\"convertToInteractive('df-0bc17f1e-140e-4ef7-a8e0-d0ec8929aa25')\"\n",
              "              title=\"Convert this dataframe to an interactive table.\"\n",
              "              style=\"display:none;\">\n",
              "        \n",
              "  <svg xmlns=\"http://www.w3.org/2000/svg\" height=\"24px\"viewBox=\"0 0 24 24\"\n",
              "       width=\"24px\">\n",
              "    <path d=\"M0 0h24v24H0V0z\" fill=\"none\"/>\n",
              "    <path d=\"M18.56 5.44l.94 2.06.94-2.06 2.06-.94-2.06-.94-.94-2.06-.94 2.06-2.06.94zm-11 1L8.5 8.5l.94-2.06 2.06-.94-2.06-.94L8.5 2.5l-.94 2.06-2.06.94zm10 10l.94 2.06.94-2.06 2.06-.94-2.06-.94-.94-2.06-.94 2.06-2.06.94z\"/><path d=\"M17.41 7.96l-1.37-1.37c-.4-.4-.92-.59-1.43-.59-.52 0-1.04.2-1.43.59L10.3 9.45l-7.72 7.72c-.78.78-.78 2.05 0 2.83L4 21.41c.39.39.9.59 1.41.59.51 0 1.02-.2 1.41-.59l7.78-7.78 2.81-2.81c.8-.78.8-2.07 0-2.86zM5.41 20L4 18.59l7.72-7.72 1.47 1.35L5.41 20z\"/>\n",
              "  </svg>\n",
              "      </button>\n",
              "      \n",
              "  <style>\n",
              "    .colab-df-container {\n",
              "      display:flex;\n",
              "      flex-wrap:wrap;\n",
              "      gap: 12px;\n",
              "    }\n",
              "\n",
              "    .colab-df-convert {\n",
              "      background-color: #E8F0FE;\n",
              "      border: none;\n",
              "      border-radius: 50%;\n",
              "      cursor: pointer;\n",
              "      display: none;\n",
              "      fill: #1967D2;\n",
              "      height: 32px;\n",
              "      padding: 0 0 0 0;\n",
              "      width: 32px;\n",
              "    }\n",
              "\n",
              "    .colab-df-convert:hover {\n",
              "      background-color: #E2EBFA;\n",
              "      box-shadow: 0px 1px 2px rgba(60, 64, 67, 0.3), 0px 1px 3px 1px rgba(60, 64, 67, 0.15);\n",
              "      fill: #174EA6;\n",
              "    }\n",
              "\n",
              "    [theme=dark] .colab-df-convert {\n",
              "      background-color: #3B4455;\n",
              "      fill: #D2E3FC;\n",
              "    }\n",
              "\n",
              "    [theme=dark] .colab-df-convert:hover {\n",
              "      background-color: #434B5C;\n",
              "      box-shadow: 0px 1px 3px 1px rgba(0, 0, 0, 0.15);\n",
              "      filter: drop-shadow(0px 1px 2px rgba(0, 0, 0, 0.3));\n",
              "      fill: #FFFFFF;\n",
              "    }\n",
              "  </style>\n",
              "\n",
              "      <script>\n",
              "        const buttonEl =\n",
              "          document.querySelector('#df-0bc17f1e-140e-4ef7-a8e0-d0ec8929aa25 button.colab-df-convert');\n",
              "        buttonEl.style.display =\n",
              "          google.colab.kernel.accessAllowed ? 'block' : 'none';\n",
              "\n",
              "        async function convertToInteractive(key) {\n",
              "          const element = document.querySelector('#df-0bc17f1e-140e-4ef7-a8e0-d0ec8929aa25');\n",
              "          const dataTable =\n",
              "            await google.colab.kernel.invokeFunction('convertToInteractive',\n",
              "                                                     [key], {});\n",
              "          if (!dataTable) return;\n",
              "\n",
              "          const docLinkHtml = 'Like what you see? Visit the ' +\n",
              "            '<a target=\"_blank\" href=https://colab.research.google.com/notebooks/data_table.ipynb>data table notebook</a>'\n",
              "            + ' to learn more about interactive tables.';\n",
              "          element.innerHTML = '';\n",
              "          dataTable['output_type'] = 'display_data';\n",
              "          await google.colab.output.renderOutput(dataTable, element);\n",
              "          const docLink = document.createElement('div');\n",
              "          docLink.innerHTML = docLinkHtml;\n",
              "          element.appendChild(docLink);\n",
              "        }\n",
              "      </script>\n",
              "    </div>\n",
              "  </div>\n",
              "  "
            ]
          },
          "metadata": {},
          "execution_count": 65
        }
      ],
      "source": [
        "def get_allowed_drinks(alcohol_level, max_level, blood_quantity): \n",
        "  #todo\n",
        "  allowed_mgL = 0\n",
        "  if max_level - alcohol_level >= 0:\n",
        "    allowed_mgL = (max_level - alcohol_level)*blood_quantity\n",
        "  verbose_advanced(\"this user can absorbe another\" + str(allowed_mgL) + \"mg of alcohol\")\n",
        "  querry = \"\"\"select * from projetalcohol.beverage where beveragealcolevel * beveragebasequantity <= {} order by beveragealcolevel desc\"\"\".format(allowed_mgL*100)\n",
        "  query_job = client.query(querry)\n",
        "\n",
        "  \n",
        "  return query_job.to_dataframe()\n",
        "\n",
        "get_allowed_drinks(0.1, 0.25, 7) "
      ]
    },
    {
      "cell_type": "markdown",
      "metadata": {
        "id": "-8RyvBckGWsG"
      },
      "source": [
        "# API communication with the M5Stacks\n",
        "\n",
        "### 1- Defining the links\n",
        "### 2- Defining utils functions\n"
      ]
    },
    {
      "cell_type": "code",
      "execution_count": 66,
      "metadata": {
        "id": "5xTHUW8rroFI"
      },
      "outputs": [],
      "source": [
        "link = \"https://api.m5stack.com/v1/D535B855/\"\n",
        "alcohol_level_api = 'https://api.m5stack.com/v1/CAAA456F/call?func=label_1_callback()'\n",
        "selected_drink = link + \"call?func=label_selecteddrink_callback()\"\n",
        "campus_card_uid = link + 'call?func=label_uid_callback()'\n",
        "\n",
        "\n",
        "drink_recommendation_1 = link + \"call?func=input_drink1_callback\"\n",
        "drink_recommendation_2 = link + \"call?func=input_drink2_callback\"\n",
        "drink_recommendation_3 = link + \"call?func=input_drink3_callback\"\n",
        "reset_selection = link + \"call?func=input_selected_drink_reseter_callback\"\n",
        "alcohol_level_setter = link + \"call?func=input_Alcohollevel_callback\"\n"
      ]
    },
    {
      "cell_type": "code",
      "execution_count": 67,
      "metadata": {
        "id": "U_rL2fczp6rM"
      },
      "outputs": [],
      "source": [
        "def get_data_from_url(url_for_API):\n",
        "  response = requests.get(url_for_API, timeout = 20)\n",
        "  json_response = json.loads(response.text)\n",
        "  try:\n",
        "    text_to_int = int(json_response['data'])\n",
        "    return str(text_to_int)\n",
        "  except:\n",
        "      pass\n",
        "  return json_response['data'][1:-1]\n",
        "\n",
        "def send_data_to_url(url_for_API, valueToSend):\n",
        "  value_to_send_formated = str(url_for_API) + '(%27' + str(valueToSend).replace(' ','%20') + '%27)'\n",
        "  requests.get(value_to_send_formated,timeout=20)"
      ]
    },
    {
      "cell_type": "markdown",
      "metadata": {
        "id": "7htaZGMnHB19"
      },
      "source": [
        "#Other Utils"
      ]
    },
    {
      "cell_type": "code",
      "execution_count": 68,
      "metadata": {
        "colab": {
          "base_uri": "https://localhost:8080/"
        },
        "id": "l-13fxeUxJd5",
        "outputId": "7bc311b7-b54f-42c1-dee4-90a134423503"
      },
      "outputs": [
        {
          "output_type": "execute_result",
          "data": {
            "text/plain": [
              "0.4175000005"
            ]
          },
          "metadata": {},
          "execution_count": 68
        }
      ],
      "source": [
        "def journalized_limit(userUID, alcohol_limit:float): #Will NEVER return more than 0.75 (as then we go in coma teritory)\n",
        "  \n",
        "  departure_time = get_departure_time(userUID)\n",
        "  \n",
        "  now_time = datetime.now() + timedelta(hours = 2)\n",
        "  try:\n",
        "    leave_time = datetime.now().replace(hour = int(departure_time[0:2]), minute = int(departure_time[3:5]))\n",
        "  except:\n",
        "    leave_time = datetime.now().replace(hour = int(departure_time[0:1]), minute = int(departure_time[2:4]))\n",
        "  possible_depreciation = (leave_time - now_time).total_seconds()/3600 * 0.15\n",
        "  allowed_consumption = max(min(alcohol_limit + possible_depreciation, 0.75), alcohol_limit)\n",
        "  return allowed_consumption\n",
        "\n",
        "\n",
        "journalized_limit(\"82e445122\", 0.25)"
      ]
    },
    {
      "cell_type": "code",
      "execution_count": 69,
      "metadata": {
        "colab": {
          "base_uri": "https://localhost:8080/"
        },
        "id": "I3ZS59jpDL8q",
        "outputId": "0fd3c092-12f8-456b-a408-81581fe07930"
      },
      "outputs": [
        {
          "output_type": "execute_result",
          "data": {
            "text/plain": [
              "('Ice Tea',\n",
              " 'Coke',\n",
              " 'Water',\n",
              " ['Ice Tea', 'Coke', 'Water'],\n",
              " [1888655, 13319, 1088253])"
            ]
          },
          "metadata": {},
          "execution_count": 69
        }
      ],
      "source": [
        "def recommend_drink(user, alcohol_level, max_level = 0):\n",
        "\n",
        "  drinks_dataframe = get_allowed_drinks(alcohol_level, max_level, get_blood_qtt(user))\n",
        "\n",
        "  #Faire ici la selection des meilleures boissons parmis celles qui figurent dans drinks_dataframe\n",
        "\n",
        "\n",
        "\n",
        "  \n",
        "  top_3_finalists = drinks_dataframe['beveragename'].tolist()[0:3]\n",
        "  indexes = drinks_dataframe['idbeverage'].tolist()[0:3]\n",
        "  #verbose(top_3_finalists)\n",
        "  return top_3_finalists[0], top_3_finalists[1], top_3_finalists[2], drinks_dataframe['beveragename'].tolist(), drinks_dataframe['idbeverage'].tolist()\n",
        "\n",
        "recommend_drink(\"82e445122\",0.12)"
      ]
    },
    {
      "cell_type": "code",
      "execution_count": 70,
      "metadata": {
        "id": "9tW46AZYF1mH"
      },
      "outputs": [],
      "source": [
        "def convert_ppm3_to_alcohol_in_blood(user, alcohol_level):\n",
        "  alcohol_level = 18846/10000 - alcohol_level/10000\n",
        "  blood_qtt = get_blood_qtt(user)\n",
        "  alcohol_level = alcohol_level /blood_qtt\n",
        "  return alcohol_level"
      ]
    },
    {
      "cell_type": "code",
      "execution_count": 71,
      "metadata": {
        "id": "DgCPGPNRZ_MP"
      },
      "outputs": [],
      "source": [
        "def get_alcohol_level(user_id): #returns the max value of alcohol measured over a period of 9 seconds\n",
        "  alcohol_level_ppm3 = int(get_data_from_url(alcohol_level_api))\n",
        "  alcohol_level = convert_ppm3_to_alcohol_in_blood(user_id, alcohol_level_ppm3)\n",
        "  return alcohol_level"
      ]
    },
    {
      "cell_type": "markdown",
      "metadata": {
        "id": "RGWqfI6MHGbK"
      },
      "source": [
        "# Update functions\n",
        "This one checks if the campus card changes and makes the recommendations (while also updating the bigquery tables)"
      ]
    },
    {
      "cell_type": "code",
      "execution_count": 72,
      "metadata": {
        "id": "xq12TrErrxF4"
      },
      "outputs": [],
      "source": [
        "def on_user_change(): #Function that checks if the campus card placed on the reader has changed => new user\n",
        "  initial_user = get_data_from_url(campus_card_uid)\n",
        "  while True: #repeat this loop until stopped\n",
        "    send_data_to_url(reset_selection, \"None\") #ensures no drink is selected (as to avoid the selection being pre-made)\n",
        "    user_id = get_data_from_url(campus_card_uid) #retrieve the uid of the capuscard located on the reader\n",
        "    if user_id != initial_user: #checks if our current user has changed\n",
        "      if user_id != \"None\" and user_id != \"'None'\" and user_id != None and user_id != \"\" and user_id != \" \" and user_id != \"imeou\": #ensures the user is not none or an error\n",
        "        initial_user = user_id #set the initial user to the current user\n",
        "        verbose(\"User detected (Yay!!)\")\n",
        "        if not user_exists(user_id): #checks if the user is in our database\n",
        "          create_user(user_id) #if no user exists creates the user\n",
        "\n",
        "\n",
        "        #This finds the current alcohol level for the user, it takes the max from our two approximations\n",
        "        alcohol_level = max(get_alcohol_level(user_id), get_alcohol_per_L_served(user_id))\n",
        "        send_data_to_url(alcohol_level_setter, alcohol_level) #sends the alcohol level to the second m5Stacks\n",
        "        \n",
        "        #sends this to our DB\n",
        "        verbose(\"Sending alcohol_level user: {}, level: {}\".format(user_id, alcohol_level))\n",
        "        send_alcohol_level(user_id, alcohol_level)\n",
        "\n",
        "        #we retrive here the users preference on alcohol limit (mg/L)\n",
        "        user_data = get_user_data(user_id)\n",
        "        \n",
        "        user_limit = user_data['alcohol_limit'].to_list()[-1]\n",
        "        if user_limit == 0: #we have those \"If's\" as the user makes a choice by checkbox\n",
        "          alcohol_limit = 0.0\n",
        "        elif user_limit == 1:\n",
        "          alcohol_limit = 0.25\n",
        "        elif user_limit == 2:\n",
        "          alcohol_limit = 0.75\n",
        "\n",
        "        \n",
        "        current_limit = journalized_limit(user_id, alcohol_limit) #this function automaticaly gets the departure time of the user from SQL\n",
        "        send_data_to_url(reset_selection, \"Non\") #message to the m5, indicating that the recommendations are coming\n",
        "        \n",
        "        verbose(\"The current user  has {} L of blood.\\nHis alcohol level is {} \\nHis journalized limit is {}\".format(str(get_blood_qtt(user_id)),str(alcohol_level), str(current_limit)))\n",
        "        beverage_1, beverage_2, beverage_3,top3, indexes  = recommend_drink(user_id, alcohol_level, current_limit) #we get our top 3 recommendations\n",
        "        send_data_to_url(drink_recommendation_1, beverage_1)\n",
        "        send_data_to_url(drink_recommendation_2, beverage_2)\n",
        "        send_data_to_url(drink_recommendation_3, beverage_3)\n",
        "\n",
        "\n",
        "        selection = get_data_from_url(selected_drink) #checking if the user has chosen his drink\n",
        "        while selection == \"None\" or selection == \"on\" or selection == \"FFLIN\" or selection == \"Thank\" or selection == \"You\" or selection == \"Next\" or selection == \"imeou\" or selection == \"ame\":\n",
        "          selection = get_data_from_url(selected_drink)\n",
        "          verbose_advanced(selection)\n",
        "          \n",
        "\n",
        "        chosen_drink_index = top3.index(selection) #identifying the chosen drink\n",
        "        drink_id = indexes[chosen_drink_index]\n",
        "        send_data_to_url(reset_selection, \"No\")\n",
        "        send_data_to_url(drink_recommendation_1, \"Thank\")\n",
        "        send_data_to_url(drink_recommendation_2, \"You\")\n",
        "        send_data_to_url(drink_recommendation_3, \"Next\")\n",
        "        verbose(\"sending_beverage_served user: {}, beverage: {}\".format(user_id, selection))\n",
        "        send_beverage_served(user_id, drink_id) #storing it to our database\n"
      ]
    },
    {
      "cell_type": "code",
      "execution_count": 75,
      "metadata": {
        "colab": {
          "base_uri": "https://localhost:8080/",
          "height": 425
        },
        "id": "BQObMEF6EuCY",
        "outputId": "fed9a9d9-c49b-4799-f32a-112a22f22b58"
      },
      "outputs": [
        {
          "output_type": "stream",
          "name": "stdout",
          "text": [
            "User detected (Yay!!)\n",
            "Sending alcohol_level user: 5ce8332e3, level: 0.005945098039215693\n",
            "New rows have been added.\n",
            "The current user  has 6.375 L of blood.\n",
            "His alcohol level is 0.005945098039215693 \n",
            "His journalized limit is 0.39500000045833333\n"
          ]
        },
        {
          "output_type": "error",
          "ename": "KeyboardInterrupt",
          "evalue": "ignored",
          "traceback": [
            "\u001b[0;31m---------------------------------------------------------------------------\u001b[0m",
            "\u001b[0;31mKeyboardInterrupt\u001b[0m                         Traceback (most recent call last)",
            "\u001b[0;32m<ipython-input-75-5cd59f5c0574>\u001b[0m in \u001b[0;36m<cell line: 1>\u001b[0;34m()\u001b[0m\n\u001b[0;32m----> 1\u001b[0;31m \u001b[0mon_user_change\u001b[0m\u001b[0;34m(\u001b[0m\u001b[0;34m)\u001b[0m\u001b[0;34m\u001b[0m\u001b[0;34m\u001b[0m\u001b[0m\n\u001b[0m",
            "\u001b[0;32m<ipython-input-72-604c099ecea5>\u001b[0m in \u001b[0;36mon_user_change\u001b[0;34m()\u001b[0m\n\u001b[1;32m     44\u001b[0m         \u001b[0mselection\u001b[0m \u001b[0;34m=\u001b[0m \u001b[0mget_data_from_url\u001b[0m\u001b[0;34m(\u001b[0m\u001b[0mselected_drink\u001b[0m\u001b[0;34m)\u001b[0m \u001b[0;31m#checking if the user has chosen his drink\u001b[0m\u001b[0;34m\u001b[0m\u001b[0;34m\u001b[0m\u001b[0m\n\u001b[1;32m     45\u001b[0m         \u001b[0;32mwhile\u001b[0m \u001b[0mselection\u001b[0m \u001b[0;34m==\u001b[0m \u001b[0;34m\"None\"\u001b[0m \u001b[0;32mor\u001b[0m \u001b[0mselection\u001b[0m \u001b[0;34m==\u001b[0m \u001b[0;34m\"on\"\u001b[0m \u001b[0;32mor\u001b[0m \u001b[0mselection\u001b[0m \u001b[0;34m==\u001b[0m \u001b[0;34m\"FFLIN\"\u001b[0m \u001b[0;32mor\u001b[0m \u001b[0mselection\u001b[0m \u001b[0;34m==\u001b[0m \u001b[0;34m\"Thank\"\u001b[0m \u001b[0;32mor\u001b[0m \u001b[0mselection\u001b[0m \u001b[0;34m==\u001b[0m \u001b[0;34m\"You\"\u001b[0m \u001b[0;32mor\u001b[0m \u001b[0mselection\u001b[0m \u001b[0;34m==\u001b[0m \u001b[0;34m\"Next\"\u001b[0m \u001b[0;32mor\u001b[0m \u001b[0mselection\u001b[0m \u001b[0;34m==\u001b[0m \u001b[0;34m\"imeou\"\u001b[0m \u001b[0;32mor\u001b[0m \u001b[0mselection\u001b[0m \u001b[0;34m==\u001b[0m \u001b[0;34m\"ame\"\u001b[0m\u001b[0;34m:\u001b[0m\u001b[0;34m\u001b[0m\u001b[0;34m\u001b[0m\u001b[0m\n\u001b[0;32m---> 46\u001b[0;31m           \u001b[0mselection\u001b[0m \u001b[0;34m=\u001b[0m \u001b[0mget_data_from_url\u001b[0m\u001b[0;34m(\u001b[0m\u001b[0mselected_drink\u001b[0m\u001b[0;34m)\u001b[0m\u001b[0;34m\u001b[0m\u001b[0;34m\u001b[0m\u001b[0m\n\u001b[0m\u001b[1;32m     47\u001b[0m           \u001b[0mverbose_advanced\u001b[0m\u001b[0;34m(\u001b[0m\u001b[0mselection\u001b[0m\u001b[0;34m)\u001b[0m\u001b[0;34m\u001b[0m\u001b[0;34m\u001b[0m\u001b[0m\n\u001b[1;32m     48\u001b[0m \u001b[0;34m\u001b[0m\u001b[0m\n",
            "\u001b[0;32m<ipython-input-67-c49d4345ccf3>\u001b[0m in \u001b[0;36mget_data_from_url\u001b[0;34m(url_for_API)\u001b[0m\n\u001b[1;32m      1\u001b[0m \u001b[0;32mdef\u001b[0m \u001b[0mget_data_from_url\u001b[0m\u001b[0;34m(\u001b[0m\u001b[0murl_for_API\u001b[0m\u001b[0;34m)\u001b[0m\u001b[0;34m:\u001b[0m\u001b[0;34m\u001b[0m\u001b[0;34m\u001b[0m\u001b[0m\n\u001b[0;32m----> 2\u001b[0;31m   \u001b[0mresponse\u001b[0m \u001b[0;34m=\u001b[0m \u001b[0mrequests\u001b[0m\u001b[0;34m.\u001b[0m\u001b[0mget\u001b[0m\u001b[0;34m(\u001b[0m\u001b[0murl_for_API\u001b[0m\u001b[0;34m,\u001b[0m \u001b[0mtimeout\u001b[0m \u001b[0;34m=\u001b[0m \u001b[0;36m20\u001b[0m\u001b[0;34m)\u001b[0m\u001b[0;34m\u001b[0m\u001b[0;34m\u001b[0m\u001b[0m\n\u001b[0m\u001b[1;32m      3\u001b[0m   \u001b[0mjson_response\u001b[0m \u001b[0;34m=\u001b[0m \u001b[0mjson\u001b[0m\u001b[0;34m.\u001b[0m\u001b[0mloads\u001b[0m\u001b[0;34m(\u001b[0m\u001b[0mresponse\u001b[0m\u001b[0;34m.\u001b[0m\u001b[0mtext\u001b[0m\u001b[0;34m)\u001b[0m\u001b[0;34m\u001b[0m\u001b[0;34m\u001b[0m\u001b[0m\n\u001b[1;32m      4\u001b[0m   \u001b[0;32mtry\u001b[0m\u001b[0;34m:\u001b[0m\u001b[0;34m\u001b[0m\u001b[0;34m\u001b[0m\u001b[0m\n\u001b[1;32m      5\u001b[0m     \u001b[0mtext_to_int\u001b[0m \u001b[0;34m=\u001b[0m \u001b[0mint\u001b[0m\u001b[0;34m(\u001b[0m\u001b[0mjson_response\u001b[0m\u001b[0;34m[\u001b[0m\u001b[0;34m'data'\u001b[0m\u001b[0;34m]\u001b[0m\u001b[0;34m)\u001b[0m\u001b[0;34m\u001b[0m\u001b[0;34m\u001b[0m\u001b[0m\n",
            "\u001b[0;32m/usr/local/lib/python3.10/dist-packages/requests/api.py\u001b[0m in \u001b[0;36mget\u001b[0;34m(url, params, **kwargs)\u001b[0m\n\u001b[1;32m     73\u001b[0m     \"\"\"\n\u001b[1;32m     74\u001b[0m \u001b[0;34m\u001b[0m\u001b[0m\n\u001b[0;32m---> 75\u001b[0;31m     \u001b[0;32mreturn\u001b[0m \u001b[0mrequest\u001b[0m\u001b[0;34m(\u001b[0m\u001b[0;34m'get'\u001b[0m\u001b[0;34m,\u001b[0m \u001b[0murl\u001b[0m\u001b[0;34m,\u001b[0m \u001b[0mparams\u001b[0m\u001b[0;34m=\u001b[0m\u001b[0mparams\u001b[0m\u001b[0;34m,\u001b[0m \u001b[0;34m**\u001b[0m\u001b[0mkwargs\u001b[0m\u001b[0;34m)\u001b[0m\u001b[0;34m\u001b[0m\u001b[0;34m\u001b[0m\u001b[0m\n\u001b[0m\u001b[1;32m     76\u001b[0m \u001b[0;34m\u001b[0m\u001b[0m\n\u001b[1;32m     77\u001b[0m \u001b[0;34m\u001b[0m\u001b[0m\n",
            "\u001b[0;32m/usr/local/lib/python3.10/dist-packages/requests/api.py\u001b[0m in \u001b[0;36mrequest\u001b[0;34m(method, url, **kwargs)\u001b[0m\n\u001b[1;32m     59\u001b[0m     \u001b[0;31m# cases, and look like a memory leak in others.\u001b[0m\u001b[0;34m\u001b[0m\u001b[0;34m\u001b[0m\u001b[0m\n\u001b[1;32m     60\u001b[0m     \u001b[0;32mwith\u001b[0m \u001b[0msessions\u001b[0m\u001b[0;34m.\u001b[0m\u001b[0mSession\u001b[0m\u001b[0;34m(\u001b[0m\u001b[0;34m)\u001b[0m \u001b[0;32mas\u001b[0m \u001b[0msession\u001b[0m\u001b[0;34m:\u001b[0m\u001b[0;34m\u001b[0m\u001b[0;34m\u001b[0m\u001b[0m\n\u001b[0;32m---> 61\u001b[0;31m         \u001b[0;32mreturn\u001b[0m \u001b[0msession\u001b[0m\u001b[0;34m.\u001b[0m\u001b[0mrequest\u001b[0m\u001b[0;34m(\u001b[0m\u001b[0mmethod\u001b[0m\u001b[0;34m=\u001b[0m\u001b[0mmethod\u001b[0m\u001b[0;34m,\u001b[0m \u001b[0murl\u001b[0m\u001b[0;34m=\u001b[0m\u001b[0murl\u001b[0m\u001b[0;34m,\u001b[0m \u001b[0;34m**\u001b[0m\u001b[0mkwargs\u001b[0m\u001b[0;34m)\u001b[0m\u001b[0;34m\u001b[0m\u001b[0;34m\u001b[0m\u001b[0m\n\u001b[0m\u001b[1;32m     62\u001b[0m \u001b[0;34m\u001b[0m\u001b[0m\n\u001b[1;32m     63\u001b[0m \u001b[0;34m\u001b[0m\u001b[0m\n",
            "\u001b[0;32m/usr/local/lib/python3.10/dist-packages/requests/sessions.py\u001b[0m in \u001b[0;36mrequest\u001b[0;34m(self, method, url, params, data, headers, cookies, files, auth, timeout, allow_redirects, proxies, hooks, stream, verify, cert, json)\u001b[0m\n\u001b[1;32m    527\u001b[0m         }\n\u001b[1;32m    528\u001b[0m         \u001b[0msend_kwargs\u001b[0m\u001b[0;34m.\u001b[0m\u001b[0mupdate\u001b[0m\u001b[0;34m(\u001b[0m\u001b[0msettings\u001b[0m\u001b[0;34m)\u001b[0m\u001b[0;34m\u001b[0m\u001b[0;34m\u001b[0m\u001b[0m\n\u001b[0;32m--> 529\u001b[0;31m         \u001b[0mresp\u001b[0m \u001b[0;34m=\u001b[0m \u001b[0mself\u001b[0m\u001b[0;34m.\u001b[0m\u001b[0msend\u001b[0m\u001b[0;34m(\u001b[0m\u001b[0mprep\u001b[0m\u001b[0;34m,\u001b[0m \u001b[0;34m**\u001b[0m\u001b[0msend_kwargs\u001b[0m\u001b[0;34m)\u001b[0m\u001b[0;34m\u001b[0m\u001b[0;34m\u001b[0m\u001b[0m\n\u001b[0m\u001b[1;32m    530\u001b[0m \u001b[0;34m\u001b[0m\u001b[0m\n\u001b[1;32m    531\u001b[0m         \u001b[0;32mreturn\u001b[0m \u001b[0mresp\u001b[0m\u001b[0;34m\u001b[0m\u001b[0;34m\u001b[0m\u001b[0m\n",
            "\u001b[0;32m/usr/local/lib/python3.10/dist-packages/requests/sessions.py\u001b[0m in \u001b[0;36msend\u001b[0;34m(self, request, **kwargs)\u001b[0m\n\u001b[1;32m    643\u001b[0m \u001b[0;34m\u001b[0m\u001b[0m\n\u001b[1;32m    644\u001b[0m         \u001b[0;31m# Send the request\u001b[0m\u001b[0;34m\u001b[0m\u001b[0;34m\u001b[0m\u001b[0m\n\u001b[0;32m--> 645\u001b[0;31m         \u001b[0mr\u001b[0m \u001b[0;34m=\u001b[0m \u001b[0madapter\u001b[0m\u001b[0;34m.\u001b[0m\u001b[0msend\u001b[0m\u001b[0;34m(\u001b[0m\u001b[0mrequest\u001b[0m\u001b[0;34m,\u001b[0m \u001b[0;34m**\u001b[0m\u001b[0mkwargs\u001b[0m\u001b[0;34m)\u001b[0m\u001b[0;34m\u001b[0m\u001b[0;34m\u001b[0m\u001b[0m\n\u001b[0m\u001b[1;32m    646\u001b[0m \u001b[0;34m\u001b[0m\u001b[0m\n\u001b[1;32m    647\u001b[0m         \u001b[0;31m# Total elapsed time of the request (approximately)\u001b[0m\u001b[0;34m\u001b[0m\u001b[0;34m\u001b[0m\u001b[0m\n",
            "\u001b[0;32m/usr/local/lib/python3.10/dist-packages/requests/adapters.py\u001b[0m in \u001b[0;36msend\u001b[0;34m(self, request, stream, timeout, verify, cert, proxies)\u001b[0m\n\u001b[1;32m    438\u001b[0m         \u001b[0;32mtry\u001b[0m\u001b[0;34m:\u001b[0m\u001b[0;34m\u001b[0m\u001b[0;34m\u001b[0m\u001b[0m\n\u001b[1;32m    439\u001b[0m             \u001b[0;32mif\u001b[0m \u001b[0;32mnot\u001b[0m \u001b[0mchunked\u001b[0m\u001b[0;34m:\u001b[0m\u001b[0;34m\u001b[0m\u001b[0;34m\u001b[0m\u001b[0m\n\u001b[0;32m--> 440\u001b[0;31m                 resp = conn.urlopen(\n\u001b[0m\u001b[1;32m    441\u001b[0m                     \u001b[0mmethod\u001b[0m\u001b[0;34m=\u001b[0m\u001b[0mrequest\u001b[0m\u001b[0;34m.\u001b[0m\u001b[0mmethod\u001b[0m\u001b[0;34m,\u001b[0m\u001b[0;34m\u001b[0m\u001b[0;34m\u001b[0m\u001b[0m\n\u001b[1;32m    442\u001b[0m                     \u001b[0murl\u001b[0m\u001b[0;34m=\u001b[0m\u001b[0murl\u001b[0m\u001b[0;34m,\u001b[0m\u001b[0;34m\u001b[0m\u001b[0;34m\u001b[0m\u001b[0m\n",
            "\u001b[0;32m/usr/local/lib/python3.10/dist-packages/urllib3/connectionpool.py\u001b[0m in \u001b[0;36murlopen\u001b[0;34m(self, method, url, body, headers, retries, redirect, assert_same_host, timeout, pool_timeout, release_conn, chunked, body_pos, **response_kw)\u001b[0m\n\u001b[1;32m    701\u001b[0m \u001b[0;34m\u001b[0m\u001b[0m\n\u001b[1;32m    702\u001b[0m             \u001b[0;31m# Make the request on the httplib connection object.\u001b[0m\u001b[0;34m\u001b[0m\u001b[0;34m\u001b[0m\u001b[0m\n\u001b[0;32m--> 703\u001b[0;31m             httplib_response = self._make_request(\n\u001b[0m\u001b[1;32m    704\u001b[0m                 \u001b[0mconn\u001b[0m\u001b[0;34m,\u001b[0m\u001b[0;34m\u001b[0m\u001b[0;34m\u001b[0m\u001b[0m\n\u001b[1;32m    705\u001b[0m                 \u001b[0mmethod\u001b[0m\u001b[0;34m,\u001b[0m\u001b[0;34m\u001b[0m\u001b[0;34m\u001b[0m\u001b[0m\n",
            "\u001b[0;32m/usr/local/lib/python3.10/dist-packages/urllib3/connectionpool.py\u001b[0m in \u001b[0;36m_make_request\u001b[0;34m(self, conn, method, url, timeout, chunked, **httplib_request_kw)\u001b[0m\n\u001b[1;32m    447\u001b[0m                     \u001b[0;31m# Python 3 (including for exceptions like SystemExit).\u001b[0m\u001b[0;34m\u001b[0m\u001b[0;34m\u001b[0m\u001b[0m\n\u001b[1;32m    448\u001b[0m                     \u001b[0;31m# Otherwise it looks like a bug in the code.\u001b[0m\u001b[0;34m\u001b[0m\u001b[0;34m\u001b[0m\u001b[0m\n\u001b[0;32m--> 449\u001b[0;31m                     \u001b[0msix\u001b[0m\u001b[0;34m.\u001b[0m\u001b[0mraise_from\u001b[0m\u001b[0;34m(\u001b[0m\u001b[0me\u001b[0m\u001b[0;34m,\u001b[0m \u001b[0;32mNone\u001b[0m\u001b[0;34m)\u001b[0m\u001b[0;34m\u001b[0m\u001b[0;34m\u001b[0m\u001b[0m\n\u001b[0m\u001b[1;32m    450\u001b[0m         \u001b[0;32mexcept\u001b[0m \u001b[0;34m(\u001b[0m\u001b[0mSocketTimeout\u001b[0m\u001b[0;34m,\u001b[0m \u001b[0mBaseSSLError\u001b[0m\u001b[0;34m,\u001b[0m \u001b[0mSocketError\u001b[0m\u001b[0;34m)\u001b[0m \u001b[0;32mas\u001b[0m \u001b[0me\u001b[0m\u001b[0;34m:\u001b[0m\u001b[0;34m\u001b[0m\u001b[0;34m\u001b[0m\u001b[0m\n\u001b[1;32m    451\u001b[0m             \u001b[0mself\u001b[0m\u001b[0;34m.\u001b[0m\u001b[0m_raise_timeout\u001b[0m\u001b[0;34m(\u001b[0m\u001b[0merr\u001b[0m\u001b[0;34m=\u001b[0m\u001b[0me\u001b[0m\u001b[0;34m,\u001b[0m \u001b[0murl\u001b[0m\u001b[0;34m=\u001b[0m\u001b[0murl\u001b[0m\u001b[0;34m,\u001b[0m \u001b[0mtimeout_value\u001b[0m\u001b[0;34m=\u001b[0m\u001b[0mread_timeout\u001b[0m\u001b[0;34m)\u001b[0m\u001b[0;34m\u001b[0m\u001b[0;34m\u001b[0m\u001b[0m\n",
            "\u001b[0;32m/usr/local/lib/python3.10/dist-packages/urllib3/packages/six.py\u001b[0m in \u001b[0;36mraise_from\u001b[0;34m(value, from_value)\u001b[0m\n",
            "\u001b[0;32m/usr/local/lib/python3.10/dist-packages/urllib3/connectionpool.py\u001b[0m in \u001b[0;36m_make_request\u001b[0;34m(self, conn, method, url, timeout, chunked, **httplib_request_kw)\u001b[0m\n\u001b[1;32m    442\u001b[0m                 \u001b[0;31m# Python 3\u001b[0m\u001b[0;34m\u001b[0m\u001b[0;34m\u001b[0m\u001b[0m\n\u001b[1;32m    443\u001b[0m                 \u001b[0;32mtry\u001b[0m\u001b[0;34m:\u001b[0m\u001b[0;34m\u001b[0m\u001b[0;34m\u001b[0m\u001b[0m\n\u001b[0;32m--> 444\u001b[0;31m                     \u001b[0mhttplib_response\u001b[0m \u001b[0;34m=\u001b[0m \u001b[0mconn\u001b[0m\u001b[0;34m.\u001b[0m\u001b[0mgetresponse\u001b[0m\u001b[0;34m(\u001b[0m\u001b[0;34m)\u001b[0m\u001b[0;34m\u001b[0m\u001b[0;34m\u001b[0m\u001b[0m\n\u001b[0m\u001b[1;32m    445\u001b[0m                 \u001b[0;32mexcept\u001b[0m \u001b[0mBaseException\u001b[0m \u001b[0;32mas\u001b[0m \u001b[0me\u001b[0m\u001b[0;34m:\u001b[0m\u001b[0;34m\u001b[0m\u001b[0;34m\u001b[0m\u001b[0m\n\u001b[1;32m    446\u001b[0m                     \u001b[0;31m# Remove the TypeError from the exception chain in\u001b[0m\u001b[0;34m\u001b[0m\u001b[0;34m\u001b[0m\u001b[0m\n",
            "\u001b[0;32m/usr/lib/python3.10/http/client.py\u001b[0m in \u001b[0;36mgetresponse\u001b[0;34m(self)\u001b[0m\n\u001b[1;32m   1373\u001b[0m         \u001b[0;32mtry\u001b[0m\u001b[0;34m:\u001b[0m\u001b[0;34m\u001b[0m\u001b[0;34m\u001b[0m\u001b[0m\n\u001b[1;32m   1374\u001b[0m             \u001b[0;32mtry\u001b[0m\u001b[0;34m:\u001b[0m\u001b[0;34m\u001b[0m\u001b[0;34m\u001b[0m\u001b[0m\n\u001b[0;32m-> 1375\u001b[0;31m                 \u001b[0mresponse\u001b[0m\u001b[0;34m.\u001b[0m\u001b[0mbegin\u001b[0m\u001b[0;34m(\u001b[0m\u001b[0;34m)\u001b[0m\u001b[0;34m\u001b[0m\u001b[0;34m\u001b[0m\u001b[0m\n\u001b[0m\u001b[1;32m   1376\u001b[0m             \u001b[0;32mexcept\u001b[0m \u001b[0mConnectionError\u001b[0m\u001b[0;34m:\u001b[0m\u001b[0;34m\u001b[0m\u001b[0;34m\u001b[0m\u001b[0m\n\u001b[1;32m   1377\u001b[0m                 \u001b[0mself\u001b[0m\u001b[0;34m.\u001b[0m\u001b[0mclose\u001b[0m\u001b[0;34m(\u001b[0m\u001b[0;34m)\u001b[0m\u001b[0;34m\u001b[0m\u001b[0;34m\u001b[0m\u001b[0m\n",
            "\u001b[0;32m/usr/lib/python3.10/http/client.py\u001b[0m in \u001b[0;36mbegin\u001b[0;34m(self)\u001b[0m\n\u001b[1;32m    316\u001b[0m         \u001b[0;31m# read until we get a non-100 response\u001b[0m\u001b[0;34m\u001b[0m\u001b[0;34m\u001b[0m\u001b[0m\n\u001b[1;32m    317\u001b[0m         \u001b[0;32mwhile\u001b[0m \u001b[0;32mTrue\u001b[0m\u001b[0;34m:\u001b[0m\u001b[0;34m\u001b[0m\u001b[0;34m\u001b[0m\u001b[0m\n\u001b[0;32m--> 318\u001b[0;31m             \u001b[0mversion\u001b[0m\u001b[0;34m,\u001b[0m \u001b[0mstatus\u001b[0m\u001b[0;34m,\u001b[0m \u001b[0mreason\u001b[0m \u001b[0;34m=\u001b[0m \u001b[0mself\u001b[0m\u001b[0;34m.\u001b[0m\u001b[0m_read_status\u001b[0m\u001b[0;34m(\u001b[0m\u001b[0;34m)\u001b[0m\u001b[0;34m\u001b[0m\u001b[0;34m\u001b[0m\u001b[0m\n\u001b[0m\u001b[1;32m    319\u001b[0m             \u001b[0;32mif\u001b[0m \u001b[0mstatus\u001b[0m \u001b[0;34m!=\u001b[0m \u001b[0mCONTINUE\u001b[0m\u001b[0;34m:\u001b[0m\u001b[0;34m\u001b[0m\u001b[0;34m\u001b[0m\u001b[0m\n\u001b[1;32m    320\u001b[0m                 \u001b[0;32mbreak\u001b[0m\u001b[0;34m\u001b[0m\u001b[0;34m\u001b[0m\u001b[0m\n",
            "\u001b[0;32m/usr/lib/python3.10/http/client.py\u001b[0m in \u001b[0;36m_read_status\u001b[0;34m(self)\u001b[0m\n\u001b[1;32m    277\u001b[0m \u001b[0;34m\u001b[0m\u001b[0m\n\u001b[1;32m    278\u001b[0m     \u001b[0;32mdef\u001b[0m \u001b[0m_read_status\u001b[0m\u001b[0;34m(\u001b[0m\u001b[0mself\u001b[0m\u001b[0;34m)\u001b[0m\u001b[0;34m:\u001b[0m\u001b[0;34m\u001b[0m\u001b[0;34m\u001b[0m\u001b[0m\n\u001b[0;32m--> 279\u001b[0;31m         \u001b[0mline\u001b[0m \u001b[0;34m=\u001b[0m \u001b[0mstr\u001b[0m\u001b[0;34m(\u001b[0m\u001b[0mself\u001b[0m\u001b[0;34m.\u001b[0m\u001b[0mfp\u001b[0m\u001b[0;34m.\u001b[0m\u001b[0mreadline\u001b[0m\u001b[0;34m(\u001b[0m\u001b[0m_MAXLINE\u001b[0m \u001b[0;34m+\u001b[0m \u001b[0;36m1\u001b[0m\u001b[0;34m)\u001b[0m\u001b[0;34m,\u001b[0m \u001b[0;34m\"iso-8859-1\"\u001b[0m\u001b[0;34m)\u001b[0m\u001b[0;34m\u001b[0m\u001b[0;34m\u001b[0m\u001b[0m\n\u001b[0m\u001b[1;32m    280\u001b[0m         \u001b[0;32mif\u001b[0m \u001b[0mlen\u001b[0m\u001b[0;34m(\u001b[0m\u001b[0mline\u001b[0m\u001b[0;34m)\u001b[0m \u001b[0;34m>\u001b[0m \u001b[0m_MAXLINE\u001b[0m\u001b[0;34m:\u001b[0m\u001b[0;34m\u001b[0m\u001b[0;34m\u001b[0m\u001b[0m\n\u001b[1;32m    281\u001b[0m             \u001b[0;32mraise\u001b[0m \u001b[0mLineTooLong\u001b[0m\u001b[0;34m(\u001b[0m\u001b[0;34m\"status line\"\u001b[0m\u001b[0;34m)\u001b[0m\u001b[0;34m\u001b[0m\u001b[0;34m\u001b[0m\u001b[0m\n",
            "\u001b[0;32m/usr/lib/python3.10/socket.py\u001b[0m in \u001b[0;36mreadinto\u001b[0;34m(self, b)\u001b[0m\n\u001b[1;32m    703\u001b[0m         \u001b[0;32mwhile\u001b[0m \u001b[0;32mTrue\u001b[0m\u001b[0;34m:\u001b[0m\u001b[0;34m\u001b[0m\u001b[0;34m\u001b[0m\u001b[0m\n\u001b[1;32m    704\u001b[0m             \u001b[0;32mtry\u001b[0m\u001b[0;34m:\u001b[0m\u001b[0;34m\u001b[0m\u001b[0;34m\u001b[0m\u001b[0m\n\u001b[0;32m--> 705\u001b[0;31m                 \u001b[0;32mreturn\u001b[0m \u001b[0mself\u001b[0m\u001b[0;34m.\u001b[0m\u001b[0m_sock\u001b[0m\u001b[0;34m.\u001b[0m\u001b[0mrecv_into\u001b[0m\u001b[0;34m(\u001b[0m\u001b[0mb\u001b[0m\u001b[0;34m)\u001b[0m\u001b[0;34m\u001b[0m\u001b[0;34m\u001b[0m\u001b[0m\n\u001b[0m\u001b[1;32m    706\u001b[0m             \u001b[0;32mexcept\u001b[0m \u001b[0mtimeout\u001b[0m\u001b[0;34m:\u001b[0m\u001b[0;34m\u001b[0m\u001b[0;34m\u001b[0m\u001b[0m\n\u001b[1;32m    707\u001b[0m                 \u001b[0mself\u001b[0m\u001b[0;34m.\u001b[0m\u001b[0m_timeout_occurred\u001b[0m \u001b[0;34m=\u001b[0m \u001b[0;32mTrue\u001b[0m\u001b[0;34m\u001b[0m\u001b[0;34m\u001b[0m\u001b[0m\n",
            "\u001b[0;32m/usr/lib/python3.10/ssl.py\u001b[0m in \u001b[0;36mrecv_into\u001b[0;34m(self, buffer, nbytes, flags)\u001b[0m\n\u001b[1;32m   1272\u001b[0m                   \u001b[0;34m\"non-zero flags not allowed in calls to recv_into() on %s\"\u001b[0m \u001b[0;34m%\u001b[0m\u001b[0;34m\u001b[0m\u001b[0;34m\u001b[0m\u001b[0m\n\u001b[1;32m   1273\u001b[0m                   self.__class__)\n\u001b[0;32m-> 1274\u001b[0;31m             \u001b[0;32mreturn\u001b[0m \u001b[0mself\u001b[0m\u001b[0;34m.\u001b[0m\u001b[0mread\u001b[0m\u001b[0;34m(\u001b[0m\u001b[0mnbytes\u001b[0m\u001b[0;34m,\u001b[0m \u001b[0mbuffer\u001b[0m\u001b[0;34m)\u001b[0m\u001b[0;34m\u001b[0m\u001b[0;34m\u001b[0m\u001b[0m\n\u001b[0m\u001b[1;32m   1275\u001b[0m         \u001b[0;32melse\u001b[0m\u001b[0;34m:\u001b[0m\u001b[0;34m\u001b[0m\u001b[0;34m\u001b[0m\u001b[0m\n\u001b[1;32m   1276\u001b[0m             \u001b[0;32mreturn\u001b[0m \u001b[0msuper\u001b[0m\u001b[0;34m(\u001b[0m\u001b[0;34m)\u001b[0m\u001b[0;34m.\u001b[0m\u001b[0mrecv_into\u001b[0m\u001b[0;34m(\u001b[0m\u001b[0mbuffer\u001b[0m\u001b[0;34m,\u001b[0m \u001b[0mnbytes\u001b[0m\u001b[0;34m,\u001b[0m \u001b[0mflags\u001b[0m\u001b[0;34m)\u001b[0m\u001b[0;34m\u001b[0m\u001b[0;34m\u001b[0m\u001b[0m\n",
            "\u001b[0;32m/usr/lib/python3.10/ssl.py\u001b[0m in \u001b[0;36mread\u001b[0;34m(self, len, buffer)\u001b[0m\n\u001b[1;32m   1128\u001b[0m         \u001b[0;32mtry\u001b[0m\u001b[0;34m:\u001b[0m\u001b[0;34m\u001b[0m\u001b[0;34m\u001b[0m\u001b[0m\n\u001b[1;32m   1129\u001b[0m             \u001b[0;32mif\u001b[0m \u001b[0mbuffer\u001b[0m \u001b[0;32mis\u001b[0m \u001b[0;32mnot\u001b[0m \u001b[0;32mNone\u001b[0m\u001b[0;34m:\u001b[0m\u001b[0;34m\u001b[0m\u001b[0;34m\u001b[0m\u001b[0m\n\u001b[0;32m-> 1130\u001b[0;31m                 \u001b[0;32mreturn\u001b[0m \u001b[0mself\u001b[0m\u001b[0;34m.\u001b[0m\u001b[0m_sslobj\u001b[0m\u001b[0;34m.\u001b[0m\u001b[0mread\u001b[0m\u001b[0;34m(\u001b[0m\u001b[0mlen\u001b[0m\u001b[0;34m,\u001b[0m \u001b[0mbuffer\u001b[0m\u001b[0;34m)\u001b[0m\u001b[0;34m\u001b[0m\u001b[0;34m\u001b[0m\u001b[0m\n\u001b[0m\u001b[1;32m   1131\u001b[0m             \u001b[0;32melse\u001b[0m\u001b[0;34m:\u001b[0m\u001b[0;34m\u001b[0m\u001b[0;34m\u001b[0m\u001b[0m\n\u001b[1;32m   1132\u001b[0m                 \u001b[0;32mreturn\u001b[0m \u001b[0mself\u001b[0m\u001b[0;34m.\u001b[0m\u001b[0m_sslobj\u001b[0m\u001b[0;34m.\u001b[0m\u001b[0mread\u001b[0m\u001b[0;34m(\u001b[0m\u001b[0mlen\u001b[0m\u001b[0;34m)\u001b[0m\u001b[0;34m\u001b[0m\u001b[0;34m\u001b[0m\u001b[0m\n",
            "\u001b[0;31mKeyboardInterrupt\u001b[0m: "
          ]
        }
      ],
      "source": [
        "on_user_change()"
      ]
    }
  ],
  "metadata": {
    "colab": {
      "provenance": [],
      "authorship_tag": "ABX9TyNxSdTMLlTcmQ/Spb+MZ/Tw",
      "include_colab_link": true
    },
    "kernelspec": {
      "display_name": "Python 3",
      "name": "python3"
    },
    "language_info": {
      "name": "python"
    }
  },
  "nbformat": 4,
  "nbformat_minor": 0
}