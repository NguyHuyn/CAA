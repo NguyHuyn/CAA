{
  "cells": [
    {
      "cell_type": "markdown",
      "metadata": {
        "id": "view-in-github",
        "colab_type": "text"
      },
      "source": [
        "<a href=\"https://colab.research.google.com/github/Stergios-Konstantinidis/CAA/blob/main/functions_and_update.ipynb\" target=\"_parent\"><img src=\"https://colab.research.google.com/assets/colab-badge.svg\" alt=\"Open In Colab\"/></a>"
      ]
    },
    {
      "cell_type": "code",
      "execution_count": 1,
      "metadata": {
        "id": "6EOBsFTzp3EY",
        "colab": {
          "base_uri": "https://localhost:8080/"
        },
        "outputId": "0e2fa510-aea1-4bac-d718-d7b539172477"
      },
      "outputs": [
        {
          "output_type": "stream",
          "name": "stdout",
          "text": [
            "Authenticated\n"
          ]
        }
      ],
      "source": [
        "import requests\n",
        "import json\n",
        "import time\n",
        "import pandas\n",
        "import random\n",
        "from datetime import datetime, timedelta\n",
        "\n",
        "from google.colab import auth\n",
        "auth.authenticate_user()\n",
        "print('Authenticated')\n",
        "\n",
        "\n",
        "from google.cloud import bigquery\n",
        "# Construct a BigQuery client object.\n",
        "project_id = 'sbb-project-2023'\n",
        "client = bigquery.Client(project = project_id)\n",
        "\n",
        "\n",
        "\n",
        "verboser = True\n",
        "\n",
        "def verbose(text:str, verboser = verboser):\n",
        "  if verboser == True:\n",
        "    print(text)\n",
        "  else:\n",
        "    pass\n"
      ]
    },
    {
      "cell_type": "code",
      "execution_count": 2,
      "metadata": {
        "id": "xXoUJPIWbbCK"
      },
      "outputs": [],
      "source": [
        "# Set table_id to the ID of the table model to fetch.\n",
        "\n",
        "def send_beverage_served(user_id, beverage_id):\n",
        "  table_id = 'projetalcohol.beverage_served'\n",
        "  to_load = \"\"\"{\"campus_card_idcampus_card\":\"***\",\"beverage_idbeverage\":\"****\",\"beverage_serveddate\":\"*****\",\"beverage_servedtime\":\"******\"}\"\"\"\n",
        "  to_load = to_load.replace(\"******\", str((datetime.now() + timedelta(hours=2)).strftime('%H:%M')+\":00.00\"))\n",
        "  to_load = to_load.replace(\"*****\", (datetime.now() + timedelta(hours=2)).strftime('%Y-%m-%d'))\n",
        "  to_load = to_load.replace(\"****\", str(beverage_id))\n",
        "  rows_to_insert = [json.loads(to_load.replace(\"***\", user_id))]\n",
        "\n",
        "  errors = client.insert_rows_json(table_id, rows_to_insert)  # Make an API request.\n",
        "  if errors == []:\n",
        "    verbose(\"New rows have been added.\")\n",
        "  else:\n",
        "    verbose(\"Encountered errors while inserting rows in beverage served: {}\".format(errors))\n",
        "\n",
        "#send_beverage_served(\"testuser\", 13319)"
      ]
    },
    {
      "cell_type": "code",
      "execution_count": 3,
      "metadata": {
        "id": "QTGNKN_yL60D"
      },
      "outputs": [],
      "source": [
        "# Set table_id to the ID of the table model to fetch.\n",
        "def send_alcohol_level(user_id, alcohol_level):\n",
        "  table_id = 'projetalcohol.alcohol_level'\n",
        "  to_load = \"\"\"{\"campus_card_idcampus_card\":\"***\",\"alcohol_leveldate\":\"*****\",\"alcohol_leveltime\":\"******\",\"alcohol_levelethanol\":\"****\"}\"\"\"\n",
        "  to_load = to_load.replace(\"******\", str((datetime.now() + timedelta(hours=2)).strftime('%H:%M:%S')))\n",
        "  to_load = to_load.replace(\"*****\", (datetime.now() + timedelta(hours=2)).strftime('%Y-%m-%d'))\n",
        "  to_load = to_load.replace(\"****\", str(alcohol_level))\n",
        "  rows_to_insert = [json.loads(to_load.replace(\"***\", user_id))]\n",
        "\n",
        "  errors = client.insert_rows_json(table_id, rows_to_insert)  # Make an API request.\n",
        "  if errors == []:\n",
        "    verbose(\"New rows have been added.\")\n",
        "  else:\n",
        "    verbose(\"Encountered errors while inserting rows in alcohol level: {}\".format(errors))\n",
        "\n",
        "#send_alcohol_level(\"testuser\", str(7000))"
      ]
    },
    {
      "cell_type": "code",
      "source": [
        "# Set table_id to the ID of the table model to fetch.\n",
        "\n",
        "\n",
        "def create_user(idcampus_card, campus_cardlastname = \"newlastname\", campus_cardfirstname = \"newfirstname\", campus_cardbirth_date = datetime.strptime(\"1998.10.03\", \"%Y.%m.%d\"), campus_cardabsorption = 4, campus_cardsex = True, campus_cardweight = 70,campus_carddiffusioncoef = 0,alcohol_authorized = 0):\n",
        "  table_id = 'projetalcohol.campus_card'\n",
        "  to_load = \"\"\"{\"idcampus_card\":\"***\",\"campus_cardlastname\":\"****\",\"campus_cardfirstname\":\"*****\",\"campus_cardbirth_date\":\"******\",\"campus_cardabsorption\":\"*******\",\"campus_cardsex\":\"********\",\"campus_cardweight\":\"*********\",\"campus_carddiffusioncoef\":\"**********\",\"alcohol_limit\":\"***********\"}\"\"\"\n",
        "  to_load = to_load.replace(\"***********\", str(alcohol_authorized))\n",
        "  to_load = to_load.replace(\"**********\", str(campus_carddiffusioncoef))\n",
        "  to_load = to_load.replace(\"*********\", str(campus_cardweight))\n",
        "  to_load = to_load.replace(\"********\", str(campus_cardsex))\n",
        "  to_load = to_load.replace(\"*******\", str(campus_cardabsorption))\n",
        "  to_load = to_load.replace(\"******\", str(campus_cardbirth_date.strftime('%Y-%m-%d')))\n",
        "  to_load = to_load.replace(\"*****\", campus_cardfirstname)\n",
        "  to_load = to_load.replace(\"****\", campus_cardlastname)\n",
        "  rows_to_insert = [json.loads(to_load.replace(\"***\", idcampus_card))]\n",
        "\n",
        "  errors = client.insert_rows_json(table_id, rows_to_insert)  # Make an API request.\n",
        "  if errors == []:\n",
        "    verbose(\"New rows have been added.\")\n",
        "  else:\n",
        "    verbose(\"Encountered errors while inserting rows in alcohol level: {}\".format(errors))\n",
        "\n",
        "#create_user(\"UID\", \"Test\", \"user\", datetime.strptime(\"1998.10.03\", \"%Y.%m.%d\"),4,True,83,1)\n"
      ],
      "metadata": {
        "id": "sB6NSriBAukw",
        "colab": {
          "base_uri": "https://localhost:8080/"
        },
        "outputId": "4615c617-5692-49ad-c4d8-304a633f8529"
      },
      "execution_count": 5,
      "outputs": [
        {
          "output_type": "stream",
          "name": "stdout",
          "text": [
            "New rows have been added.\n"
          ]
        }
      ]
    },
    {
      "cell_type": "code",
      "source": [
        "def user_exists(campuscard_id):\n",
        "  q1 = \"\"\"select campus_card_idcampus_card as campuscard\n",
        "from sbb-project-2023.projetalcohol.alcohol_level\n",
        "where campus_card_idcampus_card = \"{}\"\n",
        "limit 1\"\"\".format(campuscard_id)\n",
        "  query_job = client.query(q1)\n",
        "  if len(query_job.to_dataframe()['campuscard'].tolist()) == 0:\n",
        "    return False\n",
        "  else:\n",
        "    return True\n",
        "\n",
        "user_exists(\"8843d61d0\")"
      ],
      "metadata": {
        "id": "IYNS98aR-zqm",
        "colab": {
          "base_uri": "https://localhost:8080/"
        },
        "outputId": "f952bd0a-739a-4ae9-f591-3b1486a8c7f9"
      },
      "execution_count": 6,
      "outputs": [
        {
          "output_type": "execute_result",
          "data": {
            "text/plain": [
              "True"
            ]
          },
          "metadata": {},
          "execution_count": 6
        }
      ]
    },
    {
      "cell_type": "code",
      "execution_count": 7,
      "metadata": {
        "id": "tF6jcZLUSuvu"
      },
      "outputs": [],
      "source": [
        "# Set table_id to the ID of the table model to fetch.\n",
        "\n",
        "\n",
        "def create_drink(beverage_name, alcohol_level_percentage, beverage_quantity_cL = 300, beverage_id = random.randrange(2000000)):\n",
        "  table_id = 'projetalcohol.beverage'\n",
        "  to_load = \"\"\"{\"idbeverage\":\"***\",\"beveragename\":\"****\",\"beveragealcolevel\":\"*****\",\"beveragebasequantity\":\"******\"}\"\"\"\n",
        "  to_load = to_load.replace(\"******\", str(beverage_quantity_cL))\n",
        "  to_load = to_load.replace(\"*****\", str(alcohol_level_percentage * beverage_quantity_cL))\n",
        "  to_load = to_load.replace(\"****\", beverage_name)\n",
        "  rows_to_insert = [json.loads(to_load.replace(\"***\", str(beverage_id)))]\n",
        "\n",
        "  errors = client.insert_rows_json(table_id, rows_to_insert)  # Make an API request.\n",
        "  if errors == []:\n",
        "    verbose(\"New rows have been added.\")\n",
        "  else:\n",
        "    verbose(\"Encountered errors while inserting rows in beverage: {}\".format(errors))\n",
        "\n",
        "#create_drink(\"Pepsi\", 0, 20)"
      ]
    },
    {
      "cell_type": "code",
      "execution_count": 8,
      "metadata": {
        "id": "5xTHUW8rroFI"
      },
      "outputs": [],
      "source": [
        "link = \"https://api.m5stack.com/v1/D535B855/\"\n",
        "alcohol_level_api = 'https://api.m5stack.com/v1/CAAA456F/call?func=label_1_callback()'\n",
        "selected_drink = link + \"call?func=label_selecteddrink_callback()\"\n",
        "campus_card_uid = link + 'call?func=label_uid_callback()'\n",
        "\n",
        "\n",
        "drink_recommendation_1 = link + \"call?func=input_drink1_callback\"\n",
        "drink_recommendation_2 = link + \"call?func=input_drink2_callback\"\n",
        "drink_recommendation_3 = link + \"call?func=input_drink3_callback\"\n",
        "reset_selection = link + \"call?func=input_selected_drink_reseter_callback\"\n",
        "alcohol_level_setter = link + \"call?func=input_Alcohollevel_callback\"\n"
      ]
    },
    {
      "cell_type": "code",
      "execution_count": 9,
      "metadata": {
        "id": "U_rL2fczp6rM"
      },
      "outputs": [],
      "source": [
        "def get_data_from_url(url_for_API):\n",
        "  response = requests.get(url_for_API)\n",
        "  json_response = json.loads(response.text)\n",
        "  try:\n",
        "    text_to_int = int(json_response['data'])\n",
        "    return str(text_to_int)\n",
        "  except:\n",
        "      pass\n",
        "  return json_response['data'][1:-1]\n",
        "\n",
        "def send_data_to_url(url_for_API, valueToSend):\n",
        "  value_to_send_formated = str(url_for_API) + '(%27' + str(valueToSend).replace(' ','%20') + '%27)'\n",
        "  requests.get(value_to_send_formated)"
      ]
    },
    {
      "cell_type": "code",
      "source": [
        "def get_blood_qtt(userUID):\n",
        "  q1 = \"\"\"select campus_cardweight as weight\n",
        "from sbb-project-2023.projetalcohol.campus_card\n",
        "where idcampus_card = \"{}\"\n",
        "\"\"\".format(userUID)\n",
        "  query_job = client.query(q1)\n",
        "  user_weight = query_job.to_dataframe()['weight'].to_list()[-1]\n",
        "  return user_weight * 0.075\n",
        "\n",
        "get_blood_qtt('82e445122')"
      ],
      "metadata": {
        "colab": {
          "base_uri": "https://localhost:8080/"
        },
        "id": "HXcY3oIrTG9P",
        "outputId": "8e125c9a-b859-41f7-b20f-e660680d2a8e"
      },
      "execution_count": 10,
      "outputs": [
        {
          "output_type": "execute_result",
          "data": {
            "text/plain": [
              "6.3"
            ]
          },
          "metadata": {},
          "execution_count": 10
        }
      ]
    },
    {
      "cell_type": "code",
      "source": [
        "def get_alcohol_per_L_served(userUID):\n",
        "  querry = \"\"\"select beverage_served.beverage_serveddate as date, beverage_served.beverage_servedtime as time, (beverage.beveragealcolevel * beverage.beveragebasequantity) as miligrams\n",
        "  from projetalcohol.beverage_served \n",
        "  join projetalcohol.beverage on beverage_served.beverage_idbeverage = beverage.idbeverage\n",
        "  where beverage_served.campus_card_idcampus_card = '{}'\n",
        "  order by beverage_served.beverage_serveddate desc, beverage_served.beverage_servedtime desc\"\"\".format(userUID)\n",
        "  query_job = client.query(querry)\n",
        "\n",
        "  blood_qtt = get_blood_qtt('82e445122')\n",
        "  dates = query_job.to_dataframe()['date'].to_list()\n",
        "  times = query_job.to_dataframe()['time'].to_list()\n",
        "  grams = query_job.to_dataframe()['miligrams'].to_list()\n",
        "\n",
        "  mgramsPerL = list(map(lambda x: ((x*0.01)/blood_qtt), grams))\n",
        "  \n",
        "  values_to_keep_timeage = []\n",
        "  values_to_keep_grams_PerL = []\n",
        "  alcohol_level = 0\n",
        "  for i in range(len(dates)):\n",
        "    datetimeobject = datetime.strptime(str(dates[i]) + \"__\" + str(times[i]), \"%Y-%m-%d__%H:%M:%S\") \n",
        "    nowdatetime = datetime.now() + timedelta(hours = 2)\n",
        "\n",
        "    if datetimeobject + timedelta(hours = 6) > nowdatetime:\n",
        "      values_to_keep_timeage.append(nowdatetime - datetimeobject)\n",
        "      values_to_keep_grams_PerL.append(values_to_keep_grams_PerL[i])\n",
        "    \n",
        "  if len(values_to_keep_timeage) == 1:\n",
        "    alcohol_depreciation = ((values_to_keep_timeage[0].total_seconds()/3600) - 1800) * 0.15\n",
        "    alcohol_level += max(values_to_keep_timeage - alcohol_depreciation, 0)\n",
        "\n",
        "\n",
        "    \n",
        "  if len(values_to_keep_timeage) > 1:\n",
        "    alcohol_depreciation = ((values_to_keep_timeage[0].total_seconds()/3600) - 1800) * 0.15\n",
        "    alcohol_level += max(values_to_keep_timeage - alcohol_depreciation, 0)\n",
        "      \n",
        "  \n",
        "\n",
        "  return alcohol_level\n",
        "\n",
        "\n",
        "\n",
        "get_alcohol_per_L_served(\"8843d61d0\")"
      ],
      "metadata": {
        "colab": {
          "base_uri": "https://localhost:8080/",
          "height": 329
        },
        "id": "EK4xTBLVTnuv",
        "outputId": "7cb127e1-61a9-4974-f412-83c83ab7d600"
      },
      "execution_count": 18,
      "outputs": [
        {
          "output_type": "error",
          "ename": "NameError",
          "evalue": "ignored",
          "traceback": [
            "\u001b[0;31m---------------------------------------------------------------------------\u001b[0m",
            "\u001b[0;31mNameError\u001b[0m                                 Traceback (most recent call last)",
            "\u001b[0;32m<ipython-input-18-81fa1e85e49e>\u001b[0m in \u001b[0;36m<cell line: 43>\u001b[0;34m()\u001b[0m\n\u001b[1;32m     41\u001b[0m \u001b[0;34m\u001b[0m\u001b[0m\n\u001b[1;32m     42\u001b[0m \u001b[0;34m\u001b[0m\u001b[0m\n\u001b[0;32m---> 43\u001b[0;31m \u001b[0mget_alcohol_per_L_served\u001b[0m\u001b[0;34m(\u001b[0m\u001b[0;34m\"8843d61d0\"\u001b[0m\u001b[0;34m)\u001b[0m\u001b[0;34m\u001b[0m\u001b[0;34m\u001b[0m\u001b[0m\n\u001b[0m",
            "\u001b[0;32m<ipython-input-18-81fa1e85e49e>\u001b[0m in \u001b[0;36mget_alcohol_per_L_served\u001b[0;34m(userUID)\u001b[0m\n\u001b[1;32m     30\u001b[0m \u001b[0;34m\u001b[0m\u001b[0m\n\u001b[1;32m     31\u001b[0m \u001b[0;34m\u001b[0m\u001b[0m\n\u001b[0;32m---> 32\u001b[0;31m   \u001b[0;32mif\u001b[0m \u001b[0mlen\u001b[0m\u001b[0;34m(\u001b[0m\u001b[0mgramsPerL\u001b[0m\u001b[0;34m)\u001b[0m \u001b[0;34m>\u001b[0m \u001b[0;36m1\u001b[0m\u001b[0;34m:\u001b[0m\u001b[0;34m\u001b[0m\u001b[0;34m\u001b[0m\u001b[0m\n\u001b[0m\u001b[1;32m     33\u001b[0m     \u001b[0;32mpass\u001b[0m\u001b[0;34m\u001b[0m\u001b[0;34m\u001b[0m\u001b[0m\n\u001b[1;32m     34\u001b[0m \u001b[0;34m\u001b[0m\u001b[0m\n",
            "\u001b[0;31mNameError\u001b[0m: name 'gramsPerL' is not defined"
          ]
        }
      ]
    },
    {
      "cell_type": "code",
      "source": [
        "#dans recommander function, pas besoin\n",
        "def get_allowed_drinks(alcohol_level, max_level = 0.00025): \n",
        "  #todo\n",
        "  querry = \"\"\"select * from projetalcohol.beverage where beveragealcolevel * beveragebasequantity <= {} order by beveragealcolevel desc\"\"\".format(max_level - alcohol_level)\n",
        "  query_job = client.query(querry)\n",
        "\n",
        "  \n",
        "  return query_job.to_dataframe()\n",
        "\n",
        "#get_allowed_drinks(0)"
      ],
      "metadata": {
        "id": "BshBJ5CNVDpi",
        "colab": {
          "base_uri": "https://localhost:8080/",
          "height": 112
        },
        "outputId": "c9322ba6-3113-46be-fa0e-a7340ffd26ed"
      },
      "execution_count": null,
      "outputs": [
        {
          "output_type": "execute_result",
          "data": {
            "text/plain": [
              "   idbeverage beveragename  beveragealcolevel  beveragebasequantity\n",
              "0     1888655      Ice Tea                  0                    20\n",
              "1       13319         Coke                  0                    20"
            ],
            "text/html": [
              "\n",
              "  <div id=\"df-3f6240fb-f660-40d0-a3d2-1a0ecc96af77\">\n",
              "    <div class=\"colab-df-container\">\n",
              "      <div>\n",
              "<style scoped>\n",
              "    .dataframe tbody tr th:only-of-type {\n",
              "        vertical-align: middle;\n",
              "    }\n",
              "\n",
              "    .dataframe tbody tr th {\n",
              "        vertical-align: top;\n",
              "    }\n",
              "\n",
              "    .dataframe thead th {\n",
              "        text-align: right;\n",
              "    }\n",
              "</style>\n",
              "<table border=\"1\" class=\"dataframe\">\n",
              "  <thead>\n",
              "    <tr style=\"text-align: right;\">\n",
              "      <th></th>\n",
              "      <th>idbeverage</th>\n",
              "      <th>beveragename</th>\n",
              "      <th>beveragealcolevel</th>\n",
              "      <th>beveragebasequantity</th>\n",
              "    </tr>\n",
              "  </thead>\n",
              "  <tbody>\n",
              "    <tr>\n",
              "      <th>0</th>\n",
              "      <td>1888655</td>\n",
              "      <td>Ice Tea</td>\n",
              "      <td>0</td>\n",
              "      <td>20</td>\n",
              "    </tr>\n",
              "    <tr>\n",
              "      <th>1</th>\n",
              "      <td>13319</td>\n",
              "      <td>Coke</td>\n",
              "      <td>0</td>\n",
              "      <td>20</td>\n",
              "    </tr>\n",
              "  </tbody>\n",
              "</table>\n",
              "</div>\n",
              "      <button class=\"colab-df-convert\" onclick=\"convertToInteractive('df-3f6240fb-f660-40d0-a3d2-1a0ecc96af77')\"\n",
              "              title=\"Convert this dataframe to an interactive table.\"\n",
              "              style=\"display:none;\">\n",
              "        \n",
              "  <svg xmlns=\"http://www.w3.org/2000/svg\" height=\"24px\"viewBox=\"0 0 24 24\"\n",
              "       width=\"24px\">\n",
              "    <path d=\"M0 0h24v24H0V0z\" fill=\"none\"/>\n",
              "    <path d=\"M18.56 5.44l.94 2.06.94-2.06 2.06-.94-2.06-.94-.94-2.06-.94 2.06-2.06.94zm-11 1L8.5 8.5l.94-2.06 2.06-.94-2.06-.94L8.5 2.5l-.94 2.06-2.06.94zm10 10l.94 2.06.94-2.06 2.06-.94-2.06-.94-.94-2.06-.94 2.06-2.06.94z\"/><path d=\"M17.41 7.96l-1.37-1.37c-.4-.4-.92-.59-1.43-.59-.52 0-1.04.2-1.43.59L10.3 9.45l-7.72 7.72c-.78.78-.78 2.05 0 2.83L4 21.41c.39.39.9.59 1.41.59.51 0 1.02-.2 1.41-.59l7.78-7.78 2.81-2.81c.8-.78.8-2.07 0-2.86zM5.41 20L4 18.59l7.72-7.72 1.47 1.35L5.41 20z\"/>\n",
              "  </svg>\n",
              "      </button>\n",
              "      \n",
              "  <style>\n",
              "    .colab-df-container {\n",
              "      display:flex;\n",
              "      flex-wrap:wrap;\n",
              "      gap: 12px;\n",
              "    }\n",
              "\n",
              "    .colab-df-convert {\n",
              "      background-color: #E8F0FE;\n",
              "      border: none;\n",
              "      border-radius: 50%;\n",
              "      cursor: pointer;\n",
              "      display: none;\n",
              "      fill: #1967D2;\n",
              "      height: 32px;\n",
              "      padding: 0 0 0 0;\n",
              "      width: 32px;\n",
              "    }\n",
              "\n",
              "    .colab-df-convert:hover {\n",
              "      background-color: #E2EBFA;\n",
              "      box-shadow: 0px 1px 2px rgba(60, 64, 67, 0.3), 0px 1px 3px 1px rgba(60, 64, 67, 0.15);\n",
              "      fill: #174EA6;\n",
              "    }\n",
              "\n",
              "    [theme=dark] .colab-df-convert {\n",
              "      background-color: #3B4455;\n",
              "      fill: #D2E3FC;\n",
              "    }\n",
              "\n",
              "    [theme=dark] .colab-df-convert:hover {\n",
              "      background-color: #434B5C;\n",
              "      box-shadow: 0px 1px 3px 1px rgba(0, 0, 0, 0.15);\n",
              "      filter: drop-shadow(0px 1px 2px rgba(0, 0, 0, 0.3));\n",
              "      fill: #FFFFFF;\n",
              "    }\n",
              "  </style>\n",
              "\n",
              "      <script>\n",
              "        const buttonEl =\n",
              "          document.querySelector('#df-3f6240fb-f660-40d0-a3d2-1a0ecc96af77 button.colab-df-convert');\n",
              "        buttonEl.style.display =\n",
              "          google.colab.kernel.accessAllowed ? 'block' : 'none';\n",
              "\n",
              "        async function convertToInteractive(key) {\n",
              "          const element = document.querySelector('#df-3f6240fb-f660-40d0-a3d2-1a0ecc96af77');\n",
              "          const dataTable =\n",
              "            await google.colab.kernel.invokeFunction('convertToInteractive',\n",
              "                                                     [key], {});\n",
              "          if (!dataTable) return;\n",
              "\n",
              "          const docLinkHtml = 'Like what you see? Visit the ' +\n",
              "            '<a target=\"_blank\" href=https://colab.research.google.com/notebooks/data_table.ipynb>data table notebook</a>'\n",
              "            + ' to learn more about interactive tables.';\n",
              "          element.innerHTML = '';\n",
              "          dataTable['output_type'] = 'display_data';\n",
              "          await google.colab.output.renderOutput(dataTable, element);\n",
              "          const docLink = document.createElement('div');\n",
              "          docLink.innerHTML = docLinkHtml;\n",
              "          element.appendChild(docLink);\n",
              "        }\n",
              "      </script>\n",
              "    </div>\n",
              "  </div>\n",
              "  "
            ]
          },
          "metadata": {},
          "execution_count": 68
        }
      ]
    },
    {
      "cell_type": "code",
      "execution_count": null,
      "metadata": {
        "id": "I3ZS59jpDL8q",
        "colab": {
          "base_uri": "https://localhost:8080/"
        },
        "outputId": "2686ab29-6001-4b71-e4e2-a841eb0d56fc"
      },
      "outputs": [
        {
          "output_type": "execute_result",
          "data": {
            "text/plain": [
              "('Vodka',\n",
              " 'Limoncello',\n",
              " 'Beer',\n",
              " ['Vodka', 'Limoncello', 'Beer', 'Ice Tea', 'Coke'],\n",
              " [2938, 93680, 13251, 1888655, 13319])"
            ]
          },
          "metadata": {},
          "execution_count": 61
        }
      ],
      "source": [
        "def recommend_drink(user, alcohol_level, max_level = 10000):\n",
        "\n",
        "  drinks_dataframe = get_allowed_drinks(alcohol_level, max_level)\n",
        "\n",
        "  #Faire ici la selection des meilleures boissons parmis celles qui figurent dans drinks_dataframe\n",
        "\n",
        "\n",
        "\n",
        "  \n",
        "  top_3_finalists = drinks_dataframe['beveragename'].tolist()[0:3]\n",
        "  indexes = drinks_dataframe['idbeverage'].tolist()[0:3]\n",
        "  #verbose(top_3_finalists)\n",
        "  return top_3_finalists[0], top_3_finalists[1], top_3_finalists[2], drinks_dataframe['beveragename'].tolist(), drinks_dataframe['idbeverage'].tolist()\n",
        "\n",
        "recommend_drink(12,12)"
      ]
    },
    {
      "cell_type": "code",
      "execution_count": null,
      "metadata": {
        "id": "9tW46AZYF1mH"
      },
      "outputs": [],
      "source": [
        "def convert_ppm3_to_alcohol_in_blood(user, alcohol_level):\n",
        "  #todo\n",
        "  return alcohol_level"
      ]
    },
    {
      "cell_type": "code",
      "source": [
        "def get_alcohol_level(user_id): #returns the max value of alcohol measured over a period of 9 seconds\n",
        "\n",
        "\n",
        "  alcohol_level_ppm3 = int(get_data_from_url(alcohol_level_api))\n",
        "  alcohol_level = convert_ppm3_to_alcohol_in_blood(user_id, alcohol_level_ppm3)\n",
        "\n",
        "  send_data_to_url(alcohol_level_setter, alcohol_level)\n",
        "  return alcohol_level"
      ],
      "metadata": {
        "id": "DgCPGPNRZ_MP"
      },
      "execution_count": null,
      "outputs": []
    },
    {
      "cell_type": "code",
      "execution_count": null,
      "metadata": {
        "id": "xq12TrErrxF4"
      },
      "outputs": [],
      "source": [
        "def on_user_change(): #Function that checks if the campus card placed on the reader has changed => new user\n",
        "  initial_user = get_data_from_url(campus_card_uid)\n",
        "  get_alcohol_level(initial_user)\n",
        "  while True: #repeat this loop until stopped\n",
        "    send_data_to_url(reset_selection, \"None\") #ensures no drink is selected (as to avoid the selection being pre-made)\n",
        "    user_id = get_data_from_url(campus_card_uid) #retrieve the uid of the capuscard located on the reader\n",
        "    if user_id != initial_user: #checks if our current user has changed\n",
        "      if user_id != \"None\" and user_id != \"'None'\" and user_id != None and user_id != \"\" and user_id != \" \" and user_id != \"imeou\": #ensures the user is not none or an error\n",
        "        initial_user = user_id #set the initial user to the current user\n",
        "\n",
        "        if not user_exists(user_id): #checks if the user is in our database\n",
        "          create_user(user_id) #if no user exists creates the user\n",
        "\n",
        "\n",
        "        alcohol_level = get_alcohol_level(user_id)\n",
        "        verbose(\"Sending alcohol_level user: {}, level: {}\".format(user_id, alcohol_level))\n",
        "        send_alcohol_level(user_id, alcohol_level)\n",
        "\n",
        "\n",
        "        send_data_to_url(reset_selection, \"Non\")\n",
        "        \n",
        "        max_level = 100000000 #to change\n",
        "        beverage_1, beverage_2, beverage_3,top3, indexes  = recommend_drink(user_id, alcohol_level, max_level)\n",
        "        send_data_to_url(drink_recommendation_1, beverage_1)\n",
        "        send_data_to_url(drink_recommendation_2, beverage_2)\n",
        "        send_data_to_url(drink_recommendation_3, beverage_3)\n",
        "\n",
        "\n",
        "        selection = get_data_from_url(selected_drink)\n",
        "        while selection == \"None\" or selection == \"on\":\n",
        "          time.sleep(1)\n",
        "          selection = get_data_from_url(selected_drink)\n",
        "\n",
        "        chosen_drink_index = top3.index(selection)\n",
        "        drink_id = indexes[chosen_drink_index]\n",
        "        send_data_to_url(reset_selection, \"No\")\n",
        "        verbose(\"sending_beverage_served user: {}, beverage: {}\".format(user_id, selection))\n",
        "        send_beverage_served(user_id, drink_id)\n"
      ]
    },
    {
      "cell_type": "code",
      "execution_count": null,
      "metadata": {
        "id": "BQObMEF6EuCY",
        "colab": {
          "base_uri": "https://localhost:8080/",
          "height": 318
        },
        "outputId": "3bb02ea9-d0f3-4156-eabf-6b498700b832"
      },
      "outputs": [
        {
          "output_type": "error",
          "ename": "ValueError",
          "evalue": "ignored",
          "traceback": [
            "\u001b[0;31m---------------------------------------------------------------------------\u001b[0m",
            "\u001b[0;31mValueError\u001b[0m                                Traceback (most recent call last)",
            "\u001b[0;32m<ipython-input-70-5cd59f5c0574>\u001b[0m in \u001b[0;36m<cell line: 1>\u001b[0;34m()\u001b[0m\n\u001b[0;32m----> 1\u001b[0;31m \u001b[0mon_user_change\u001b[0m\u001b[0;34m(\u001b[0m\u001b[0;34m)\u001b[0m\u001b[0;34m\u001b[0m\u001b[0;34m\u001b[0m\u001b[0m\n\u001b[0m",
            "\u001b[0;32m<ipython-input-69-a2370cf6bff3>\u001b[0m in \u001b[0;36mon_user_change\u001b[0;34m()\u001b[0m\n\u001b[1;32m      1\u001b[0m \u001b[0;32mdef\u001b[0m \u001b[0mon_user_change\u001b[0m\u001b[0;34m(\u001b[0m\u001b[0;34m)\u001b[0m\u001b[0;34m:\u001b[0m \u001b[0;31m#Function that checks\u001b[0m\u001b[0;34m\u001b[0m\u001b[0;34m\u001b[0m\u001b[0m\n\u001b[1;32m      2\u001b[0m   \u001b[0minitial_user\u001b[0m \u001b[0;34m=\u001b[0m \u001b[0mget_data_from_url\u001b[0m\u001b[0;34m(\u001b[0m\u001b[0mcampus_card_uid\u001b[0m\u001b[0;34m)\u001b[0m\u001b[0;34m\u001b[0m\u001b[0;34m\u001b[0m\u001b[0m\n\u001b[0;32m----> 3\u001b[0;31m   \u001b[0mget_alcohol_level\u001b[0m\u001b[0;34m(\u001b[0m\u001b[0minitial_user\u001b[0m\u001b[0;34m)\u001b[0m\u001b[0;34m\u001b[0m\u001b[0;34m\u001b[0m\u001b[0m\n\u001b[0m\u001b[1;32m      4\u001b[0m   \u001b[0;32mwhile\u001b[0m \u001b[0;32mTrue\u001b[0m\u001b[0;34m:\u001b[0m\u001b[0;34m\u001b[0m\u001b[0;34m\u001b[0m\u001b[0m\n\u001b[1;32m      5\u001b[0m     \u001b[0msend_data_to_url\u001b[0m\u001b[0;34m(\u001b[0m\u001b[0mreset_selection\u001b[0m\u001b[0;34m,\u001b[0m \u001b[0;34m\"None\"\u001b[0m\u001b[0;34m)\u001b[0m\u001b[0;34m\u001b[0m\u001b[0;34m\u001b[0m\u001b[0m\n",
            "\u001b[0;32m<ipython-input-63-90f03896e761>\u001b[0m in \u001b[0;36mget_alcohol_level\u001b[0;34m(user_id)\u001b[0m\n\u001b[1;32m      2\u001b[0m \u001b[0;34m\u001b[0m\u001b[0m\n\u001b[1;32m      3\u001b[0m \u001b[0;34m\u001b[0m\u001b[0m\n\u001b[0;32m----> 4\u001b[0;31m   \u001b[0malcohol_level_ppm3\u001b[0m \u001b[0;34m=\u001b[0m \u001b[0mint\u001b[0m\u001b[0;34m(\u001b[0m\u001b[0mget_data_from_url\u001b[0m\u001b[0;34m(\u001b[0m\u001b[0malcohol_level_api\u001b[0m\u001b[0;34m)\u001b[0m\u001b[0;34m)\u001b[0m\u001b[0;34m\u001b[0m\u001b[0;34m\u001b[0m\u001b[0m\n\u001b[0m\u001b[1;32m      5\u001b[0m   \u001b[0malcohol_level\u001b[0m \u001b[0;34m=\u001b[0m \u001b[0mconvert_ppm3_to_alcohol_in_blood\u001b[0m\u001b[0;34m(\u001b[0m\u001b[0muser_id\u001b[0m\u001b[0;34m,\u001b[0m \u001b[0malcohol_level_ppm3\u001b[0m\u001b[0;34m)\u001b[0m\u001b[0;34m\u001b[0m\u001b[0;34m\u001b[0m\u001b[0m\n\u001b[1;32m      6\u001b[0m \u001b[0;34m\u001b[0m\u001b[0m\n",
            "\u001b[0;31mValueError\u001b[0m: invalid literal for int() with base 10: 'FFLIN'"
          ]
        }
      ],
      "source": [
        "on_user_change()"
      ]
    }
  ],
  "metadata": {
    "colab": {
      "provenance": [],
      "authorship_tag": "ABX9TyODfxU4l43wgHCsS0/stZ5d",
      "include_colab_link": true
    },
    "kernelspec": {
      "display_name": "Python 3",
      "name": "python3"
    },
    "language_info": {
      "name": "python"
    }
  },
  "nbformat": 4,
  "nbformat_minor": 0
}